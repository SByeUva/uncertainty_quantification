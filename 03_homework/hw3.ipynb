{
 "cells": [
  {
   "cell_type": "markdown",
   "id": "8e7b7a9f",
   "metadata": {},
   "source": [
    "# Homework 3"
   ]
  },
  {
   "cell_type": "code",
   "execution_count": 142,
   "id": "aa578a94",
   "metadata": {},
   "outputs": [],
   "source": [
    "import numpy as np\n",
    "import matplotlib.pyplot as plt\n",
    "import seaborn as sns\n",
    "from scipy.special import legendre\n",
    "from scipy import integrate\n",
    "import copy"
   ]
  },
  {
   "cell_type": "code",
   "execution_count": 143,
   "id": "0f77d7c2",
   "metadata": {},
   "outputs": [],
   "source": [
    "def f(Z):\n",
    "    # Function to be considered where Z in U[-1, 1]\n",
    "    return np.sin(2 * (Z - 1)**2)"
   ]
  },
  {
   "cell_type": "markdown",
   "id": "9face4c1",
   "metadata": {},
   "source": [
    "Build a gPC approximation of f(Z) using orthogonal polynominals. Truncate after the 7th degree poly. Plot the true f(Z) and its approximation\n",
    "\n",
    "First, the Legendre polynominal is the correct one. See: https://colab.research.google.com/github/ndcbe/cbe67701-uncertainty-quantification/blob/master/docs/09.02-Uniform-Random-Variables-Legendre-Polynomials-Example.ipynb"
   ]
  },
  {
   "cell_type": "code",
   "execution_count": 144,
   "id": "a73aafb4",
   "metadata": {},
   "outputs": [],
   "source": [
    "# True function of f\n",
    "X = np.linspace(-1, 1, 100)\n",
    "Y = np.array(list(map(f, X)))"
   ]
  },
  {
   "cell_type": "code",
   "execution_count": 145,
   "id": "679ebbfc",
   "metadata": {
    "scrolled": false
   },
   "outputs": [
    {
     "data": {
      "image/png": "[encoded data removed]",
      "text/plain": [
       "<Figure size 432x288 with 1 Axes>"
      ]
     },
     "metadata": {
      "needs_background": "light"
     },
     "output_type": "display_data"
    }
   ],
   "source": [
    "plt.plot(X, Y, label = 'f(Z)')\n",
    "plt.legend()\n",
    "plt.ylabel('f(z)')\n",
    "plt.xlabel('x')\n",
    "plt.show()"
   ]
  },
  {
   "cell_type": "markdown",
   "id": "0b84f6ac",
   "metadata": {},
   "source": [
    "Recall that gCP is $$f(Z) \\approx f_N(Z) = \\sum^{N}_{n=0} \\hat{f_n}\\psi_{n}(Z)$$\n",
    "\n",
    "where $\\hat{f_n},$\n",
    "is approximated by quadrature and $\\psi_{n}$ is approximated by orthognal poly"
   ]
  },
  {
   "cell_type": "code",
   "execution_count": 146,
   "id": "efde3276",
   "metadata": {},
   "outputs": [],
   "source": [
    "# function to approximate:  f(z) = sin(2(Z-1)**2);\n",
    "# N+1 Legendre polynomials used for projection, highest degree is N\n",
    "N=7"
   ]
  },
  {
   "cell_type": "code",
   "execution_count": 147,
   "id": "02ddd442",
   "metadata": {},
   "outputs": [],
   "source": [
    "# numerical approximation of inner products c_i=(p_i, f) and normalization\n",
    "# constants g_i=(p_i, p_i) using Gauss-Legendre quadrature for numerical \n",
    "# integration\n",
    "# (here, p_i is the i-th Legendre polynomial, with i=0,1,..,N)"
   ]
  },
  {
   "cell_type": "code",
   "execution_count": 148,
   "id": "e439c982",
   "metadata": {},
   "outputs": [],
   "source": [
    "M=N+1"
   ]
  },
  {
   "cell_type": "code",
   "execution_count": 149,
   "id": "1560d213",
   "metadata": {},
   "outputs": [
    {
     "name": "stdout",
     "output_type": "stream",
     "text": [
      "[-0.96028986 -0.79666648 -0.52553241 -0.18343464  0.18343464  0.52553241\n",
      "  0.79666648  0.96028986]\n",
      "[0.10122854 0.22238103 0.31370665 0.36268378 0.36268378 0.31370665\n",
      " 0.22238103 0.10122854]\n"
     ]
    }
   ],
   "source": [
    "x, w = np.polynomial.legendre.leggauss(M)\n",
    "print(x)\n",
    "print(w)"
   ]
  },
  {
   "cell_type": "code",
   "execution_count": 150,
   "id": "c8c7facf",
   "metadata": {},
   "outputs": [],
   "source": [
    "fx=f(x)"
   ]
  },
  {
   "cell_type": "code",
   "execution_count": 151,
   "id": "8023e0b7",
   "metadata": {},
   "outputs": [],
   "source": [
    "c=np.zeros(N+1); g=np.zeros(N+1);"
   ]
  },
  {
   "cell_type": "code",
   "execution_count": 152,
   "id": "16fcec7c",
   "metadata": {},
   "outputs": [],
   "source": [
    "\n",
    "for i in range(1,N+1):\n",
    "\n",
    "    # evaluate polynomial\n",
    "    px = legendre(i - 1)(x)\n",
    "    \n",
    "\n",
    "    # approximate inner product at (p_i, f)\n",
    "    c[i] = np.dot(px * fx, w)\n",
    "    \n",
    "    \n",
    "    # approximate inner product at (p_i, p_i)\n",
    "    g[i] = np.dot(px*px, w)\n",
    "    \n",
    "    # recall that f_hat = <poly, function>/<poly, poly>\n",
    "\n"
   ]
  },
  {
   "cell_type": "code",
   "execution_count": 168,
   "id": "4e441bc0",
   "metadata": {},
   "outputs": [
    {
     "name": "stdout",
     "output_type": "stream",
     "text": [
      "[0. 0. 0. ... 0. 0. 0.]\n"
     ]
    }
   ],
   "source": [
    "# computational grid\n",
    "l =-1\n",
    "r=1\n",
    "dz=0.001;\n",
    "\n",
    "z=np.linspace(l,r,int((r-l) / dz));\n",
    "J=len(z)-1;\n",
    "p=np.zeros((N+1,J+1)); \n",
    "\n"
   ]
  },
  {
   "cell_type": "code",
   "execution_count": 170,
   "id": "1b1f5931",
   "metadata": {},
   "outputs": [],
   "source": [
    "# evaluate polynomials on computational grid:\n",
    "for i in range(1,N+1):\n",
    "    p[i,:]=legendre(i-1)(z)\n",
    "\n"
   ]
  },
  {
   "cell_type": "code",
   "execution_count": 155,
   "id": "e3c2189f",
   "metadata": {},
   "outputs": [
    {
     "name": "stdout",
     "output_type": "stream",
     "text": [
      "[1.71872419 1.70584751 1.69300977 ... 0.35576747 0.3620689  0.36842235]\n"
     ]
    }
   ],
   "source": [
    "# real func\n",
    "f_real = f(z)\n",
    "# approximation of function using orthogonal polynomials\n",
    "# recall that: f = sum(f_hat_i * poly_i)\n",
    "fa = np.zeros(len(f_real))\n",
    "for i in range(1,N):\n",
    "    fa = fa+(c[i]/g[i])*p[i,:]\n",
    "\n"
   ]
  },
  {
   "cell_type": "code",
   "execution_count": 156,
   "id": "456298d8",
   "metadata": {},
   "outputs": [
    {
     "data": {
      "text/plain": [
       "[<matplotlib.lines.Line2D at 0x7facd91c83d0>]"
      ]
     },
     "execution_count": 156,
     "metadata": {},
     "output_type": "execute_result"
    },
    {
     "data": {
      "image/png": "[encoded data removed]",
      "text/plain": [
       "<Figure size 432x288 with 1 Axes>"
      ]
     },
     "metadata": {
      "needs_background": "light"
     },
     "output_type": "display_data"
    }
   ],
   "source": [
    "plt.plot(z,f_real)\n",
    "plt.plot(z,fa)"
   ]
  },
  {
   "cell_type": "markdown",
   "id": "6e2bab67",
   "metadata": {},
   "source": [
    "Compute the mean and varianceo of f(Z) using MC sampling. Compute mean and variance of the approximation $f_{N=7}(Z)$ from the expansion coefficient. Plot the distributions by generating many samples"
   ]
  },
  {
   "cell_type": "code",
   "execution_count": 157,
   "id": "3cf0bdff",
   "metadata": {},
   "outputs": [],
   "source": [
    "random_sample = np.random.uniform(-1, 1, 100000)\n",
    "monte_carlo_f = f(random_sample)"
   ]
  },
  {
   "cell_type": "code",
   "execution_count": 158,
   "id": "51850f31",
   "metadata": {},
   "outputs": [],
   "source": [
    "J=len(random_sample)-1\n",
    "p=np.zeros((N+1,J+1)) "
   ]
  },
  {
   "cell_type": "code",
   "execution_count": 159,
   "id": "098722c9",
   "metadata": {},
   "outputs": [],
   "source": [
    "# evaluate polynomials on computational grid:\n",
    "for i in range(1,N+1):\n",
    "    p[i,:]=legendre(i-1)(random_sample)"
   ]
  },
  {
   "cell_type": "code",
   "execution_count": 160,
   "id": "8fab7b71",
   "metadata": {},
   "outputs": [],
   "source": [
    "# real func\n",
    "f_real = f(random_sample)\n",
    "# approximation of function using orthogonal polynomials\n",
    "# recall that: f = sum(f_hat_i * poly_i)\n",
    "monte_carlo_f_a = np.zeros(len(f_real))\n",
    "for i in range(1,N+1):\n",
    "    monte_carlo_f_a = monte_carlo_f_a+(c[i]/g[i])*p[i,:]"
   ]
  },
  {
   "cell_type": "code",
   "execution_count": 161,
   "id": "9ba4a63a",
   "metadata": {},
   "outputs": [
    {
     "data": {
      "image/png": "[encoded data removed]",
      "text/plain": [
       "<Figure size 432x288 with 1 Axes>"
      ]
     },
     "metadata": {
      "needs_background": "light"
     },
     "output_type": "display_data"
    }
   ],
   "source": [
    "sns.histplot(monte_carlo_f, label='real')\n",
    "sns.histplot(monte_carlo_f_a, label='approximation')\n",
    "plt.title(f'Monte Carlo Sample. Mean = {np.mean(monte_carlo_f)}, Variance = {np.var(monte_carlo_f)}')\n",
    "plt.legend()\n",
    "plt.show()"
   ]
  },
  {
   "cell_type": "code",
   "execution_count": 162,
   "id": "225bf32b",
   "metadata": {},
   "outputs": [
    {
     "data": {
      "text/plain": [
       "0.2268649971051089"
      ]
     },
     "execution_count": 162,
     "metadata": {},
     "output_type": "execute_result"
    }
   ],
   "source": [
    "# mean\n",
    "c[1]/g[1]"
   ]
  },
  {
   "cell_type": "code",
   "execution_count": 163,
   "id": "67aa8513",
   "metadata": {},
   "outputs": [],
   "source": [
    "# numerical solution in 1D\n",
    "i=3\n",
    "\n",
    "f_gamma = lambda x, i, j:legendre(i-1)(x)* legendre(j-1)(x) "
   ]
  },
  {
   "cell_type": "code",
   "execution_count": 164,
   "id": "42a07d6c",
   "metadata": {},
   "outputs": [],
   "source": [
    "gammas = np.zeros((N+1, N+1))\n",
    "\n",
    "for n in range(1,N+1):\n",
    "    for m in range(1,N+1):\n",
    "        gammas[n, m] = integrate.quadrature(f_gamma, -1,1, args=(n, m))[0]"
   ]
  },
  {
   "cell_type": "code",
   "execution_count": 165,
   "id": "5f120c52",
   "metadata": {
    "scrolled": true
   },
   "outputs": [
    {
     "data": {
      "text/plain": [
       "array([0.        , 2.        , 0.66666667, 0.4       , 0.28571429,\n",
       "       0.22222222, 0.18181818, 0.15384615])"
      ]
     },
     "execution_count": 165,
     "metadata": {},
     "output_type": "execute_result"
    }
   ],
   "source": [
    "np.diag(gammas)"
   ]
  },
  {
   "cell_type": "code",
   "execution_count": 166,
   "id": "664b8a44",
   "metadata": {},
   "outputs": [],
   "source": [
    "var = 0\n",
    "for i in range(1,N+1):\n",
    "    var+=(c[i]/g[i])**2 * gammas[i,i]"
   ]
  }
 ],
 "metadata": {
  "kernelspec": {
   "display_name": "Python 3.9.5 ('base')",
   "language": "python",
   "name": "python3"
  },
  "language_info": {
   "codemirror_mode": {
    "name": "ipython",
    "version": 3
   },
   "file_extension": ".py",
   "mimetype": "text/x-python",
   "name": "python",
   "nbconvert_exporter": "python",
   "pygments_lexer": "ipython3",
   "version": "3.9.5"
  },
  "vscode": {
   "interpreter": {
    "hash": "3d597f4c481aa0f25dceb95d2a0067e73c0966dcbd003d741d821a7208527ecf"
   }
  }
 },
 "nbformat": 4,
 "nbformat_minor": 5
}
