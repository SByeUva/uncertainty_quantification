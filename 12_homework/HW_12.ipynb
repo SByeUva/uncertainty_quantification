{
 "cells": [
  {
   "cell_type": "code",
   "execution_count": 1,
   "id": "97b8e09f",
   "metadata": {},
   "outputs": [],
   "source": [
    "import numpy as np\n",
    "import matplotlib.pyplot as plt"
   ]
  },
  {
   "cell_type": "code",
   "execution_count": 2,
   "id": "00b11cde",
   "metadata": {},
   "outputs": [],
   "source": [
    "M=1000000"
   ]
  },
  {
   "cell_type": "code",
   "execution_count": 3,
   "id": "8968b75b",
   "metadata": {},
   "outputs": [],
   "source": [
    "def f(Z):\n",
    "    return Z[0]+Z[1]**2+Z[0]*Z[1]+Z[1]*Z[2]**2"
   ]
  },
  {
   "cell_type": "code",
   "execution_count": 4,
   "id": "5ac3ae0b",
   "metadata": {},
   "outputs": [],
   "source": [
    "Z=np.random.uniform(size=(3,M))"
   ]
  },
  {
   "cell_type": "code",
   "execution_count": 5,
   "id": "562a87f0",
   "metadata": {},
   "outputs": [],
   "source": [
    "Y=np.zeros(M)\n",
    "for i in range(M):\n",
    "    Y[i] = f(Z[:,i])"
   ]
  },
  {
   "cell_type": "code",
   "execution_count": 6,
   "id": "38591650",
   "metadata": {},
   "outputs": [
    {
     "data": {
      "text/plain": [
       "<matplotlib.collections.PathCollection at 0x13ed47f6d40>"
      ]
     },
     "execution_count": 6,
     "metadata": {},
     "output_type": "execute_result"
    },
    {
     "data": {
      "image/png": "[encoded data removed]",
      "text/plain": [
       "<Figure size 432x288 with 1 Axes>"
      ]
     },
     "metadata": {
      "needs_background": "light"
     },
     "output_type": "display_data"
    }
   ],
   "source": [
    "plt.scatter(Z[0,:], Y)"
   ]
  },
  {
   "cell_type": "code",
   "execution_count": 7,
   "id": "a457b431",
   "metadata": {},
   "outputs": [
    {
     "data": {
      "text/plain": [
       "<matplotlib.collections.PathCollection at 0x13ed7a64670>"
      ]
     },
     "execution_count": 7,
     "metadata": {},
     "output_type": "execute_result"
    },
    {
     "data": {
      "image/png": "[encoded data removed]",
      "text/plain": [
       "<Figure size 432x288 with 1 Axes>"
      ]
     },
     "metadata": {
      "needs_background": "light"
     },
     "output_type": "display_data"
    }
   ],
   "source": [
    "plt.scatter(Z[1,:], Y)"
   ]
  },
  {
   "cell_type": "code",
   "execution_count": 8,
   "id": "1432b8ea",
   "metadata": {},
   "outputs": [
    {
     "data": {
      "text/plain": [
       "<matplotlib.collections.PathCollection at 0x13ed48644f0>"
      ]
     },
     "execution_count": 8,
     "metadata": {},
     "output_type": "execute_result"
    },
    {
     "data": {
      "image/png": "[encoded data removed]",
      "text/plain": [
       "<Figure size 432x288 with 1 Axes>"
      ]
     },
     "metadata": {
      "needs_background": "light"
     },
     "output_type": "display_data"
    }
   ],
   "source": [
    "plt.scatter(Z[2,:], Y)"
   ]
  },
  {
   "cell_type": "code",
   "execution_count": 9,
   "id": "dc20e444",
   "metadata": {},
   "outputs": [],
   "source": [
    "f_hat = np.mean(Y)\n",
    "D_hat = np.mean(Y**2 - f_hat**2)"
   ]
  },
  {
   "cell_type": "code",
   "execution_count": 10,
   "id": "467ed746",
   "metadata": {},
   "outputs": [],
   "source": [
    "z_1 = np.random.uniform(size=M)\n",
    "z_2 = np.random.uniform(size=M)\n",
    "z_3 = np.random.uniform(size=M)\n",
    "z_2_apple = np.random.uniform(size=M)\n",
    "z_3_apple = np.random.uniform(size=M)"
   ]
  },
  {
   "cell_type": "code",
   "execution_count": 11,
   "id": "2bafd1c2",
   "metadata": {},
   "outputs": [],
   "source": [
    "Z=np.zeros((3,M))\n",
    "Z[0,:] = z_1\n",
    "Z[1,:] = z_2\n",
    "Z[2,:] = z_3"
   ]
  },
  {
   "cell_type": "code",
   "execution_count": 12,
   "id": "2828bd6d",
   "metadata": {},
   "outputs": [],
   "source": [
    "Z_apple=np.zeros((3,M))\n",
    "Z_apple[0,:] = z_1\n",
    "Z_apple[1,:] = z_2_apple\n",
    "Z_apple[2,:] = z_3_apple"
   ]
  },
  {
   "cell_type": "code",
   "execution_count": 13,
   "id": "f8f6072a",
   "metadata": {},
   "outputs": [],
   "source": [
    "Y = f(Z)\n",
    "Y_apple = f(Z_apple)\n",
    "\n",
    "D_1 = np.mean(Y_apple*Y-f_hat**2)\n",
    "sobol_1 = D_1/D_hat"
   ]
  },
  {
   "cell_type": "code",
   "execution_count": 14,
   "id": "e554a472",
   "metadata": {},
   "outputs": [
    {
     "data": {
      "text/plain": [
       "0.36441491555827116"
      ]
     },
     "execution_count": 14,
     "metadata": {},
     "output_type": "execute_result"
    }
   ],
   "source": [
    "sobol_1"
   ]
  },
  {
   "cell_type": "code",
   "execution_count": 15,
   "id": "59a16fe2",
   "metadata": {},
   "outputs": [],
   "source": [
    "z_1 = np.random.uniform(size=M)\n",
    "z_2 = np.random.uniform(size=M)\n",
    "z_3 = np.random.uniform(size=M)\n",
    "z_1_apple = np.random.uniform(size=M)\n",
    "z_3_apple = np.random.uniform(size=M)\n",
    "\n",
    "Z=np.zeros((3,M))\n",
    "Z[0,:] = z_1\n",
    "Z[1,:] = z_2\n",
    "Z[2,:] = z_3\n",
    "\n",
    "Z_apple=np.zeros((3,M))\n",
    "Z_apple[0,:] = z_1_apple\n",
    "Z_apple[1,:] = z_2\n",
    "Z_apple[2,:] = z_3_apple"
   ]
  },
  {
   "cell_type": "code",
   "execution_count": 16,
   "id": "7782d88d",
   "metadata": {},
   "outputs": [],
   "source": [
    "Y = f(Z)\n",
    "Y_apple = f(Z_apple)\n",
    "\n",
    "D_2 = np.mean(Y_apple*Y-f_hat**2)\n",
    "sobol_2 = D_2/D_hat"
   ]
  },
  {
   "cell_type": "code",
   "execution_count": 17,
   "id": "a0e006d4",
   "metadata": {},
   "outputs": [
    {
     "data": {
      "text/plain": [
       "0.5577584586231205"
      ]
     },
     "execution_count": 17,
     "metadata": {},
     "output_type": "execute_result"
    }
   ],
   "source": [
    "sobol_2"
   ]
  },
  {
   "cell_type": "code",
   "execution_count": 18,
   "id": "57cfb08f",
   "metadata": {},
   "outputs": [],
   "source": [
    "z_1 = np.random.uniform(size=M)\n",
    "z_2 = np.random.uniform(size=M)\n",
    "z_3 = np.random.uniform(size=M)\n",
    "z_1_apple = np.random.uniform(size=M)\n",
    "z_3_apple = np.random.uniform(size=M)\n",
    "\n",
    "Z=np.zeros((3,M))\n",
    "Z[0,:] = z_1\n",
    "Z[1,:] = z_2\n",
    "Z[2,:] = z_3\n",
    "\n",
    "Z_apple=np.zeros((3,M))\n",
    "Z_apple[0,:] = z_1_apple\n",
    "Z_apple[1,:] = z_2_apple\n",
    "Z_apple[2,:] = z_3"
   ]
  },
  {
   "cell_type": "code",
   "execution_count": 19,
   "id": "b10c79f8",
   "metadata": {},
   "outputs": [],
   "source": [
    "Y = f(Z)\n",
    "Y_apple = f(Z_apple)\n",
    "\n",
    "D_3 = np.mean(Y_apple*Y-f_hat**2)\n",
    "sobol_3 = D_3/D_hat"
   ]
  },
  {
   "cell_type": "code",
   "execution_count": 20,
   "id": "8e801dc6",
   "metadata": {},
   "outputs": [
    {
     "data": {
      "text/plain": [
       "0.04416466053176153"
      ]
     },
     "execution_count": 20,
     "metadata": {},
     "output_type": "execute_result"
    }
   ],
   "source": [
    "sobol_3"
   ]
  },
  {
   "cell_type": "code",
   "execution_count": 21,
   "id": "6987a6fd",
   "metadata": {
    "scrolled": true
   },
   "outputs": [
    {
     "data": {
      "text/plain": [
       "0.966338034713153"
      ]
     },
     "execution_count": 21,
     "metadata": {},
     "output_type": "execute_result"
    }
   ],
   "source": [
    "sobol_1+sobol_2+sobol_3"
   ]
  },
  {
   "cell_type": "code",
   "execution_count": null,
   "id": "78124ddf",
   "metadata": {},
   "outputs": [],
   "source": []
  },
  {
   "cell_type": "code",
   "execution_count": 22,
   "id": "f4eafb2d",
   "metadata": {},
   "outputs": [],
   "source": [
    "z_1 = np.random.uniform(size=M)\n",
    "z_2 = np.random.uniform(size=M)\n",
    "z_3 = np.random.uniform(size=M)\n",
    "z_1_apple = np.random.uniform(size=M)\n",
    "z_3_apple = np.random.uniform(size=M)\n",
    "\n",
    "Z=np.zeros((3,M))\n",
    "Z[0,:] = z_1\n",
    "Z[1,:] = z_2\n",
    "Z[2,:] = z_3\n",
    "\n",
    "Z_apple=np.zeros((3,M))\n",
    "Z_apple[0,:] = z_1\n",
    "Z_apple[1,:] = z_2\n",
    "Z_apple[2,:] = z_3_apple"
   ]
  },
  {
   "cell_type": "code",
   "execution_count": 23,
   "id": "d41ead79",
   "metadata": {},
   "outputs": [],
   "source": [
    "Z_1 = np.zeros((3,M))\n",
    "Z_1[1,:] = z_2\n",
    "Z_1[2,:] = z_3\n",
    "\n",
    "f_1 = np.mean(f(Z_1))\n",
    "\n",
    "Z_2 = np.zeros((3,M))\n",
    "Z_2[0,:] = z_1\n",
    "Z_2[2,:] = z_3\n",
    "\n",
    "f_2 = np.mean(f(Z_2))"
   ]
  },
  {
   "cell_type": "code",
   "execution_count": 24,
   "id": "56bff0e0",
   "metadata": {},
   "outputs": [],
   "source": [
    "# Interactie f12\n",
    "Y = f(Z)\n",
    "Y_apple = f(Z_apple)\n",
    "\n",
    "D_2 = np.mean(Y_apple*Y) -f_hat-f_1 - f_2\n",
    "#sobol_2 = D_2/D_hat"
   ]
  },
  {
   "cell_type": "code",
   "execution_count": 25,
   "id": "f331fb70",
   "metadata": {},
   "outputs": [
    {
     "data": {
      "text/plain": [
       "-0.2084508613612145"
      ]
     },
     "execution_count": 25,
     "metadata": {},
     "output_type": "execute_result"
    }
   ],
   "source": [
    "D_2"
   ]
  },
  {
   "cell_type": "code",
   "execution_count": null,
   "id": "01f105e1",
   "metadata": {},
   "outputs": [],
   "source": []
  }
 ],
 "metadata": {
  "kernelspec": {
   "display_name": "Python 3 (ipykernel)",
   "language": "python",
   "name": "python3"
  },
  "language_info": {
   "codemirror_mode": {
    "name": "ipython",
    "version": 3
   },
   "file_extension": ".py",
   "mimetype": "text/x-python",
   "name": "python",
   "nbconvert_exporter": "python",
   "pygments_lexer": "ipython3",
   "version": "3.10.4"
  }
 },
 "nbformat": 4,
 "nbformat_minor": 5
}
