{
 "cells": [
  {
   "cell_type": "markdown",
   "id": "b4d184f7",
   "metadata": {},
   "source": [
    "# Homework set 1\n",
    "Sebastiaan Bye, Julius Wantenaar"
   ]
  },
  {
   "cell_type": "code",
   "execution_count": 3,
   "id": "3d00bbd7",
   "metadata": {},
   "outputs": [],
   "source": [
    "'''\n",
    "Packages\n",
    "'''\n",
    "import numpy as np\n",
    "import matplotlib.pyplot as plt\n",
    "from scipy.interpolate import lagrange\n",
    "from numpy.polynomial.polynomial import Polynomial"
   ]
  },
  {
   "cell_type": "markdown",
   "id": "ca7577a8",
   "metadata": {},
   "source": [
    "## Exercise 1"
   ]
  },
  {
   "cell_type": "markdown",
   "id": "45a760e2",
   "metadata": {},
   "source": [
    "The pdf of the beta distribution is\n",
    "$ p(z) = (1-z)^{6}(1+z)^2$.\n",
    "\n",
    "Notice that the Jaccobi polynominal\n",
    "\n",
    "$$P^{a,b}_n(x) = (1-x)^a(1+x)^b,$$\n",
    "\n",
    "is the same as $p(z)$ for $a=6$ and $b=2$.\n",
    "\n",
    "Thus, the set of polynomials that are orthogonal wrt the pdf of Z are Jacobi polynomials and the normalization constants are 6 and 2."
   ]
  },
  {
   "cell_type": "markdown",
   "id": "dc09f53f",
   "metadata": {},
   "source": [
    "Special Cases of Jacobi polynomials (the first 3):\n",
    "$$P^{a,b}_{0}(x) = 1$$\n",
    "$$P^{a,b}_{1}(x) = (a+1)+(a+b+2)\\frac{x-1}{2}$$\n",
    "$$P^{a,b}_{2}(x) = \\frac{(a+1)(a+2)}{2}+(a+2)(a+b+3)\\frac{x-1}{2}+\\frac{(a+b+3)(a+b+4)}{2}(\\frac{x-1}{2})^2$$"
   ]
  },
  {
   "cell_type": "markdown",
   "id": "6d0cf66e",
   "metadata": {},
   "source": [
    "so for $a=6$ and $b=2$, this gives:\n",
    "$$P^{6,2}_{0}(x) = 1$$\n",
    "$$P^{6,2}_{1}(x) = 7 + 10\\frac{x-1}{2}$$\n",
    "$$P^{6,2}_{2}(x) = 28+88\\frac{x-1}{2}+66(\\frac{x-1}{2})^2$$"
   ]
  },
  {
   "cell_type": "code",
   "execution_count": 4,
   "id": "c2dae7ff",
   "metadata": {},
   "outputs": [],
   "source": [
    "# Define M points on the x-axis\n",
    "M = 5000\n",
    "X = np.linspace(-1,1,M)"
   ]
  },
  {
   "cell_type": "code",
   "execution_count": 5,
   "id": "4627b27a",
   "metadata": {},
   "outputs": [
    {
     "data": {
      "text/plain": [
       "[<matplotlib.lines.Line2D at 0x7f984f9649d0>]"
      ]
     },
     "execution_count": 5,
     "metadata": {},
     "output_type": "execute_result"
    },
    {
     "data": {
      "image/png": "[encoded data removed]",
      "text/plain": [
       "<Figure size 432x288 with 1 Axes>"
      ]
     },
     "metadata": {
      "needs_background": "light"
     },
     "output_type": "display_data"
    }
   ],
   "source": [
    "# Plot the pdf of the beta distribution\n",
    "def beta(x):\n",
    "    return (1-x)**6 * (1+x)**2\n",
    "\n",
    "y = [beta(x) for x in X]\n",
    "plt.plot(X, y)"
   ]
  },
  {
   "cell_type": "code",
   "execution_count": 6,
   "id": "3a8aaed8",
   "metadata": {},
   "outputs": [],
   "source": [
    "# Define the first three Jacobi polynomials\n",
    "def P0(x, a, b):\n",
    "    return 1\n",
    "def P1(x, a, b):\n",
    "    return (a+1)+(a+b+2)*((x-1)/2)\n",
    "def P2(x,a,b):\n",
    "    return ((a+1)*(a+2)/2)+(a+2)*(a+b+3)*((x-1)/2)+((a+b+3)*(a+b+4)/2)*((x-1)/2)**2"
   ]
  },
  {
   "cell_type": "code",
   "execution_count": 7,
   "id": "b96c72b3",
   "metadata": {},
   "outputs": [
    {
     "data": {
      "text/plain": [
       "[<matplotlib.lines.Line2D at 0x7f984fab8f40>]"
      ]
     },
     "execution_count": 7,
     "metadata": {},
     "output_type": "execute_result"
    },
    {
     "data": {
      "image/png": "[encoded data removed]",
      "text/plain": [
       "<Figure size 432x288 with 1 Axes>"
      ]
     },
     "metadata": {
      "needs_background": "light"
     },
     "output_type": "display_data"
    }
   ],
   "source": [
    "# Plot them\n",
    "a = 6; b = 2\n",
    "\n",
    "plt.plot(X, [P0(x, a, b) for x in X])\n",
    "plt.plot(X, [P1(x, a, b) for x in X])\n",
    "plt.plot(X, [P2(x, a, b) for x in X])"
   ]
  },
  {
   "cell_type": "code",
   "execution_count": 8,
   "id": "618c5a1f",
   "metadata": {},
   "outputs": [
    {
     "data": {
      "text/plain": [
       "4.785823908563839e-10"
      ]
     },
     "execution_count": 8,
     "metadata": {},
     "output_type": "execute_result"
    }
   ],
   "source": [
    "# Check if the inner product of the Jacobi polynomials that follow each other is indeed zero --> yes, almost\n",
    "np.dot([P1(x, a, b) for x in X], np.array([P0(x, a, b) for x in X]) * y)"
   ]
  },
  {
   "cell_type": "code",
   "execution_count": 10,
   "id": "bd2b5810",
   "metadata": {},
   "outputs": [
    {
     "data": {
      "text/plain": [
       "5.124069248055239e-09"
      ]
     },
     "execution_count": 10,
     "metadata": {},
     "output_type": "execute_result"
    }
   ],
   "source": [
    "# Check if the inner product of Jacobi polynomials that follow each other is indeed zero --> yes, almost\n",
    "np.dot([P2(x, a, b) for x in X], np.array([P1(x, a, b) for x in X]) * y)"
   ]
  },
  {
   "cell_type": "code",
   "execution_count": 14,
   "id": "44237e8e",
   "metadata": {},
   "outputs": [
    {
     "name": "stdout",
     "output_type": "stream",
     "text": [
      "10588.702779573365 -2353.0450621274144 -4582.245647300757\n"
     ]
    }
   ],
   "source": [
    "# Check if the inner product of the beta distribution and the polynomials is indeed zero --> NO!\n",
    "innerp0 = np.dot([beta(x) for x in X], np.array([P0(x, a, b) for x in X]) * y)\n",
    "innerp1 = np.dot([beta(x) for x in X], np.array([P1(x, a, b) for x in X]) * y)\n",
    "innerp2 = np.dot([beta(x) for x in X], np.array([P2(x, a, b) for x in X]) * y)\n",
    "\n",
    "print(innerp0, innerp1, innerp2)"
   ]
  },
  {
   "cell_type": "code",
   "execution_count": 182,
   "id": "b2ae45f0",
   "metadata": {},
   "outputs": [
    {
     "data": {
      "text/plain": [
       "[<matplotlib.lines.Line2D at 0x23ca143f310>]"
      ]
     },
     "execution_count": 182,
     "metadata": {},
     "output_type": "execute_result"
    },
    {
     "data": {
      "image/png": "[encoded data removed]",
      "text/plain": [
       "<Figure size 432x288 with 1 Axes>"
      ]
     },
     "metadata": {
      "needs_background": "light"
     },
     "output_type": "display_data"
    }
   ],
   "source": [
    "# Plot the polynomials times the beta distribution\n",
    "a = 6; b = 2\n",
    "\n",
    "plt.plot(X, [beta(x)*P0(x, a, b)**2 for x in X])\n",
    "plt.plot(X, [beta(x)*P1(x, a, b)**2 for x in X])\n",
    "plt.plot(X, [beta(x)*P2(x, a, b)**2 for x in X])"
   ]
  },
  {
   "cell_type": "code",
   "execution_count": 205,
   "id": "8c73618e",
   "metadata": {},
   "outputs": [
    {
     "data": {
      "text/plain": [
       "2.0317257142857144"
      ]
     },
     "execution_count": 205,
     "metadata": {},
     "output_type": "execute_result"
    }
   ],
   "source": [
    "np.sum([beta(x)*P0(x, a, b)**2 for x in X])/M*2"
   ]
  },
  {
   "cell_type": "code",
   "execution_count": 206,
   "id": "f778f52d",
   "metadata": {},
   "outputs": [
    {
     "data": {
      "text/plain": [
       "3.8787490909090914"
      ]
     },
     "execution_count": 206,
     "metadata": {},
     "output_type": "execute_result"
    }
   ],
   "source": [
    "np.sum([beta(x)*P1(x, a, b)**2 for x in X])/M*2"
   ]
  },
  {
   "cell_type": "code",
   "execution_count": 207,
   "id": "462d7c90",
   "metadata": {},
   "outputs": [
    {
     "data": {
      "text/plain": [
       "5.251229538461539"
      ]
     },
     "execution_count": 207,
     "metadata": {},
     "output_type": "execute_result"
    }
   ],
   "source": [
    "np.sum([beta(x)*P2(x, a, b)**2 for x in X])/M*2"
   ]
  },
  {
   "cell_type": "code",
   "execution_count": 194,
   "id": "8b1c2899",
   "metadata": {},
   "outputs": [],
   "source": [
    "M=100000\n",
    "X = np.linspace(-1,1,M)"
   ]
  },
  {
   "cell_type": "code",
   "execution_count": 202,
   "id": "b3b836d3",
   "metadata": {},
   "outputs": [
    {
     "data": {
      "text/plain": [
       "2.0317257142857144"
      ]
     },
     "execution_count": 202,
     "metadata": {},
     "output_type": "execute_result"
    }
   ],
   "source": [
    "np.sum([beta(x)*P0(x, a, b)**2 for x in X])/M*2"
   ]
  },
  {
   "cell_type": "code",
   "execution_count": 203,
   "id": "b77f1dfd",
   "metadata": {},
   "outputs": [
    {
     "data": {
      "text/plain": [
       "3.8787490909090914"
      ]
     },
     "execution_count": 203,
     "metadata": {},
     "output_type": "execute_result"
    }
   ],
   "source": [
    "np.sum([beta(x)*P1(x, a, b)**2 for x in X])/M*2"
   ]
  },
  {
   "cell_type": "code",
   "execution_count": 204,
   "id": "df40c72b",
   "metadata": {},
   "outputs": [
    {
     "data": {
      "text/plain": [
       "5.251229538461539"
      ]
     },
     "execution_count": 204,
     "metadata": {},
     "output_type": "execute_result"
    }
   ],
   "source": [
    "np.sum([beta(x)*P2(x, a, b)**2 for x in X])/M*2"
   ]
  },
  {
   "cell_type": "code",
   "execution_count": null,
   "id": "1de0c5f0",
   "metadata": {},
   "outputs": [],
   "source": [
    "# needs nice proof"
   ]
  },
  {
   "cell_type": "markdown",
   "id": "73b6a721",
   "metadata": {},
   "source": [
    "## Exercise 2"
   ]
  },
  {
   "cell_type": "code",
   "execution_count": 15,
   "id": "1ffa2e82",
   "metadata": {},
   "outputs": [],
   "source": [
    "def function(x):\n",
    "    return np.exp(2 * x + np.sin(4*x))"
   ]
  },
  {
   "cell_type": "code",
   "execution_count": 16,
   "id": "2f8d4fa3",
   "metadata": {},
   "outputs": [],
   "source": [
    "# Define domain and range\n",
    "M = 5\n",
    "x = np.linspace(-1, 1, M)\n",
    "y = function(x)"
   ]
  },
  {
   "cell_type": "code",
   "execution_count": 17,
   "id": "0e48f67a",
   "metadata": {},
   "outputs": [
    {
     "name": "stderr",
     "output_type": "stream",
     "text": [
      "/Library/Frameworks/Python.framework/Versions/3.9/lib/python3.9/site-packages/numpy/polynomial/legendre.py:1411: RankWarning: The fit may be poorly conditioned\n",
      "  return pu._fit(legvander, x, y, deg, rcond, full, w)\n"
     ]
    }
   ],
   "source": [
    "# Approximate f by orthogonal projection with Legendre\n",
    "proj = np.polynomial.legendre.Legendre.fit(x, y, 5)\n",
    "\n",
    "# Approximate f by interpolation\n",
    "poly = lagrange(x, y)"
   ]
  },
  {
   "cell_type": "code",
   "execution_count": 18,
   "id": "7e0dabf2",
   "metadata": {},
   "outputs": [
    {
     "data": {
      "image/png": "[encoded data removed]",
      "text/plain": [
       "<Figure size 432x288 with 1 Axes>"
      ]
     },
     "metadata": {
      "needs_background": "light"
     },
     "output_type": "display_data"
    }
   ],
   "source": [
    "plt.plot(x, y, label = 'f(x)')\n",
    "plt.plot(x, proj(x), label = 'projection')\n",
    "plt.legend()\n",
    "plt.show()"
   ]
  },
  {
   "cell_type": "code",
   "execution_count": 19,
   "id": "251f1f01",
   "metadata": {},
   "outputs": [
    {
     "data": {
      "image/png": "[encoded data removed]",
      "text/plain": [
       "<Figure size 432x288 with 1 Axes>"
      ]
     },
     "metadata": {
      "needs_background": "light"
     },
     "output_type": "display_data"
    }
   ],
   "source": [
    "plt.plot(x, y, label = 'f(x)')\n",
    "plt.plot(x, Polynomial(poly.coef[::-1])(x), label = 'interpolation')\n",
    "plt.legend()\n",
    "plt.show()"
   ]
  },
  {
   "cell_type": "markdown",
   "id": "8976aca1",
   "metadata": {},
   "source": [
    "#### What is the approximation error in both cases?"
   ]
  },
  {
   "cell_type": "markdown",
   "id": "a610fe1f",
   "metadata": {},
   "source": [
    "L2 norm implementeren"
   ]
  },
  {
   "cell_type": "code",
   "execution_count": 254,
   "id": "c38654ed",
   "metadata": {},
   "outputs": [
    {
     "data": {
      "text/plain": [
       "1.779816412265263e-14"
      ]
     },
     "execution_count": 254,
     "metadata": {},
     "output_type": "execute_result"
    }
   ],
   "source": [
    "# Compute the approximation error of orthogonal projection\n",
    "np.linalg.norm(function(x) - proj(x), 2)"
   ]
  },
  {
   "cell_type": "code",
   "execution_count": 255,
   "id": "c1abc7a0",
   "metadata": {},
   "outputs": [
    {
     "data": {
      "text/plain": [
       "3.2097016151842217e-15"
      ]
     },
     "execution_count": 255,
     "metadata": {},
     "output_type": "execute_result"
    }
   ],
   "source": [
    "# Compute the approximation error of interpolation\n",
    "np.linalg.norm(function(x) - Polynomial(poly.coef[::-1])(x), 2)"
   ]
  },
  {
   "cell_type": "markdown",
   "id": "789fa8b5",
   "metadata": {},
   "source": [
    "#### How does the error change when the order (degree) of approximation is increased?"
   ]
  },
  {
   "cell_type": "code",
   "execution_count": 22,
   "id": "e5265874",
   "metadata": {},
   "outputs": [
    {
     "name": "stdout",
     "output_type": "stream",
     "text": [
      "order: 1 error: 3.8371308363232037\n",
      "order: 2 error: 3.8192027730396405\n",
      "order: 3 error: 2.1312098226518352\n",
      "order: 4 error: 5.078966988977447e-15\n",
      "order: 5 error: 1.5160871846395875e-14\n",
      "order: 6 error: 6.838300185111783e-15\n"
     ]
    }
   ],
   "source": [
    "for i in range (1,7): \n",
    "    # Approximate f by orthogonal projection with Legendre\n",
    "    proj = np.polynomial.legendre.Legendre.fit(x, y, i)\n",
    "\n",
    "    # Compute the approximation error of orthogonal projection\n",
    "    error = np.linalg.norm(function(x) - proj(x), 2)\n",
    "    \n",
    "    print(\"order:\", i, \"error:\", error)"
   ]
  },
  {
   "cell_type": "markdown",
   "id": "cb90b286",
   "metadata": {},
   "source": [
    "Answer: there is a sudden switch from order 3 to 4, where the error is first of order $10^0$, but decreases suddenly to $10^{-15}$."
   ]
  }
 ],
 "metadata": {
  "kernelspec": {
   "display_name": "Python 3 (ipykernel)",
   "language": "python",
   "name": "python3"
  },
  "language_info": {
   "codemirror_mode": {
    "name": "ipython",
    "version": 3
   },
   "file_extension": ".py",
   "mimetype": "text/x-python",
   "name": "python",
   "nbconvert_exporter": "python",
   "pygments_lexer": "ipython3",
   "version": "3.9.0"
  }
 },
 "nbformat": 4,
 "nbformat_minor": 5
}
