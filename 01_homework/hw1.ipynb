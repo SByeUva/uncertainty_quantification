{
 "cells": [
  {
   "cell_type": "markdown",
   "id": "b4d184f7",
   "metadata": {},
   "source": [
    "# Homework set 1\n",
    "Sebastiaan Bye, Julius Wantenaar"
   ]
  },
  {
   "cell_type": "code",
   "execution_count": 1,
   "id": "3d00bbd7",
   "metadata": {},
   "outputs": [],
   "source": [
    "'''\n",
    "Packages\n",
    "'''\n",
    "import numpy as np\n",
    "import matplotlib.pyplot as plt\n",
    "from scipy.interpolate import lagrange\n",
    "from numpy.polynomial.polynomial import Polynomial"
   ]
  },
  {
   "cell_type": "markdown",
   "id": "ca7577a8",
   "metadata": {},
   "source": [
    "## Exercise 1"
   ]
  },
  {
   "cell_type": "markdown",
   "id": "45a760e2",
   "metadata": {},
   "source": [
    "The pdf of the beta distribution is\n",
    "$ p(z) = (1-z)^{6}(1+z)^2$.\n",
    "\n",
    "Notice that the Jaccobi polynominal\n",
    "\n",
    "$$P^{a,b}_n(x) = (1-x)^a(1+x)^b,$$\n",
    "\n",
    "is the same as $p(z)$ for $a=6$ and $b=2$.\n",
    "\n",
    "Thus, the set of polynomials that are orthogonal wrt the pdf of Z are Jacobi polynomials and the normalization constants are 6 and 2."
   ]
  },
  {
   "cell_type": "markdown",
   "id": "dc09f53f",
   "metadata": {},
   "source": [
    "Special Cases of Jacobi polynomials (the first 3):\n",
    "$$P^{a,b}_{0}(x) = 1$$\n",
    "$$P^{a,b}_{1}(x) = (a+1)+(a+b+2)\\frac{x-1}{2}$$\n",
    "$$P^{a,b}_{2}(x) = \\frac{(a+1)(a+2)}{2}+(a+2)(a+b+3)\\frac{x-1}{2}+\\frac{(a+b+3)(a+b+4)}{2}(\\frac{x-1}{2})^2$$"
   ]
  },
  {
   "cell_type": "markdown",
   "id": "6d0cf66e",
   "metadata": {},
   "source": [
    "so for $a=6$ and $b=2$, this gives:\n",
    "$$P^{6,2}_{0}(x) = 1$$\n",
    "$$P^{6,2}_{1}(x) = 7 + 10\\frac{x-1}{2}$$\n",
    "$$P^{6,2}_{2}(x) = 28+88\\frac{x-1}{2}+66(\\frac{x-1}{2})^2$$"
   ]
  },
  {
   "cell_type": "code",
   "execution_count": null,
   "id": "b23c9b4b",
   "metadata": {},
   "outputs": [],
   "source": []
  },
  {
   "cell_type": "markdown",
   "id": "09b3a085",
   "metadata": {},
   "source": [
    "Analytical solutions: 1, 5.0x + 2, 16.5*x**2 + 11.0x + 0.5"
   ]
  },
  {
   "cell_type": "markdown",
   "id": "c2392c9d",
   "metadata": {},
   "source": [
    "Normalization with respect to w(z): the polynomial squared and integrated. P0 is about 2.03"
   ]
  },
  {
   "cell_type": "code",
   "execution_count": null,
   "id": "c2dae7ff",
   "metadata": {},
   "outputs": [],
   "source": [
    "# Define M points on the x-axis\n",
    "M = 5000\n",
    "X = np.linspace(-1,1,M)"
   ]
  },
  {
   "cell_type": "code",
   "execution_count": null,
   "id": "4627b27a",
   "metadata": {},
   "outputs": [
    {
     "data": {
      "text/plain": [
       "[<matplotlib.lines.Line2D at 0x7f984f9649d0>]"
      ]
     },
     "execution_count": 5,
     "metadata": {},
     "output_type": "execute_result"
    },
    {
     "data": {
      "image/png": "[encoded data removed]",
      "text/plain": [
       "<Figure size 432x288 with 1 Axes>"
      ]
     },
     "metadata": {
      "needs_background": "light"
     },
     "output_type": "display_data"
    }
   ],
   "source": [
    "# Plot the pdf of the beta distribution\n",
    "def beta(x):\n",
    "    return (1-x)**6 * (1+x)**2\n",
    "\n",
    "y = [beta(x) for x in X]\n",
    "plt.plot(X, y)"
   ]
  },
  {
   "cell_type": "code",
   "execution_count": null,
   "id": "3a8aaed8",
   "metadata": {},
   "outputs": [],
   "source": [
    "# Define the first three Jacobi polynomials\n",
    "def P0(x, a, b):\n",
    "    return 1\n",
    "def P1(x, a, b):\n",
    "    return (a+1)+(a+b+2)*((x-1)/2)\n",
    "def P2(x,a,b):\n",
    "    return ((a+1)*(a+2)/2)+(a+2)*(a+b+3)*((x-1)/2)+((a+b+3)*(a+b+4)/2)*((x-1)/2)**2"
   ]
  },
  {
   "cell_type": "code",
   "execution_count": null,
   "id": "b96c72b3",
   "metadata": {},
   "outputs": [
    {
     "data": {
      "text/plain": [
       "[<matplotlib.lines.Line2D at 0x7f984fab8f40>]"
      ]
     },
     "execution_count": 7,
     "metadata": {},
     "output_type": "execute_result"
    },
    {
     "data": {
      "image/png": "[encoded data removed]",
      "text/plain": [
       "<Figure size 432x288 with 1 Axes>"
      ]
     },
     "metadata": {
      "needs_background": "light"
     },
     "output_type": "display_data"
    }
   ],
   "source": [
    "# Plot them\n",
    "a = 6; b = 2\n",
    "\n",
    "plt.plot(X, [P0(x, a, b) for x in X])\n",
    "plt.plot(X, [P1(x, a, b) for x in X])\n",
    "plt.plot(X, [P2(x, a, b) for x in X])"
   ]
  },
  {
   "cell_type": "code",
   "execution_count": null,
   "id": "618c5a1f",
   "metadata": {},
   "outputs": [
    {
     "data": {
      "text/plain": [
       "4.785823908563839e-10"
      ]
     },
     "execution_count": 8,
     "metadata": {},
     "output_type": "execute_result"
    }
   ],
   "source": [
    "# Check if the inner product of the Jacobi polynomials that follow each other is indeed zero --> yes, almost\n",
    "np.dot([P1(x, a, b) for x in X], np.array([P0(x, a, b) for x in X]) * y)"
   ]
  },
  {
   "cell_type": "code",
   "execution_count": null,
   "id": "bd2b5810",
   "metadata": {},
   "outputs": [
    {
     "data": {
      "text/plain": [
       "5.124069248055239e-09"
      ]
     },
     "execution_count": 10,
     "metadata": {},
     "output_type": "execute_result"
    }
   ],
   "source": [
    "# Check if the inner product of Jacobi polynomials that follow each other is indeed zero --> yes, almost\n",
    "np.dot([P2(x, a, b) for x in X], np.array([P1(x, a, b) for x in X]) * y)"
   ]
  },
  {
   "cell_type": "code",
   "execution_count": null,
   "id": "582b2376",
   "metadata": {},
   "outputs": [],
   "source": [
    "# Find the normalization factors\n",
    "n0 = np.dot([P0(x, a, b) for x in X], np.array([P0(x, a, b) for x in X]) * y)\n",
    "n2 = np.dot([P1(x, a, b) for x in X], np.array([P1(x, a, b) for x in X]) * y)\n",
    "n2 = np.dot([P2(x, a, b) for x in X], np.array([P2(x, a, b) for x in X]) * y)\n",
    "print(n0, n1, n2)"
   ]
  },
  {
   "cell_type": "code",
   "execution_count": null,
   "id": "44237e8e",
   "metadata": {},
   "outputs": [
    {
     "name": "stdout",
     "output_type": "stream",
     "text": [
      "10588.702779573365 -2353.0450621274144 -4582.245647300757\n"
     ]
    }
   ],
   "source": [
    "# Check if the inner product of the beta distribution and the polynomials is indeed zero --> NO!\n",
    "innerp0 = np.dot([beta(x) for x in X], np.array([P0(x, a, b) for x in X]) * y)\n",
    "innerp1 = np.dot([beta(x) for x in X], np.array([P1(x, a, b) for x in X]) * y)\n",
    "innerp2 = np.dot([beta(x) for x in X], np.array([P2(x, a, b) for x in X]) * y)\n",
    "\n",
    "print(innerp0, innerp1, innerp2)"
   ]
  },
  {
   "cell_type": "code",
   "execution_count": null,
   "id": "b2ae45f0",
   "metadata": {},
   "outputs": [
    {
     "data": {
      "text/plain": [
       "[<matplotlib.lines.Line2D at 0x23ca143f310>]"
      ]
     },
     "execution_count": 182,
     "metadata": {},
     "output_type": "execute_result"
    },
    {
     "data": {
      "image/png": "[encoded data removed]",
      "text/plain": [
       "<Figure size 432x288 with 1 Axes>"
      ]
     },
     "metadata": {
      "needs_background": "light"
     },
     "output_type": "display_data"
    }
   ],
   "source": [
    "# Plot the polynomials times the beta distribution\n",
    "a = 6; b = 2\n",
    "\n",
    "plt.plot(X, [beta(x)*P0(x, a, b)**2 for x in X])\n",
    "plt.plot(X, [beta(x)*P1(x, a, b)**2 for x in X])\n",
    "plt.plot(X, [beta(x)*P2(x, a, b)**2 for x in X])"
   ]
  },
  {
   "cell_type": "code",
   "execution_count": null,
   "id": "8c73618e",
   "metadata": {},
   "outputs": [
    {
     "data": {
      "text/plain": [
       "2.0317257142857144"
      ]
     },
     "execution_count": 205,
     "metadata": {},
     "output_type": "execute_result"
    }
   ],
   "source": [
    "np.sum([beta(x)*P0(x, a, b)**2 for x in X])/M*2"
   ]
  },
  {
   "cell_type": "code",
   "execution_count": null,
   "id": "f778f52d",
   "metadata": {},
   "outputs": [
    {
     "data": {
      "text/plain": [
       "3.8787490909090914"
      ]
     },
     "execution_count": 206,
     "metadata": {},
     "output_type": "execute_result"
    }
   ],
   "source": [
    "np.sum([beta(x)*P1(x, a, b)**2 for x in X])/M*2"
   ]
  },
  {
   "cell_type": "code",
   "execution_count": null,
   "id": "462d7c90",
   "metadata": {},
   "outputs": [
    {
     "data": {
      "text/plain": [
       "5.251229538461539"
      ]
     },
     "execution_count": 207,
     "metadata": {},
     "output_type": "execute_result"
    }
   ],
   "source": [
    "np.sum([beta(x)*P2(x, a, b)**2 for x in X])/M*2"
   ]
  },
  {
   "cell_type": "code",
   "execution_count": null,
   "id": "8b1c2899",
   "metadata": {},
   "outputs": [],
   "source": [
    "M=100000\n",
    "X = np.linspace(-1,1,M)"
   ]
  },
  {
   "cell_type": "code",
   "execution_count": null,
   "id": "b3b836d3",
   "metadata": {},
   "outputs": [
    {
     "data": {
      "text/plain": [
       "2.0317257142857144"
      ]
     },
     "execution_count": 202,
     "metadata": {},
     "output_type": "execute_result"
    }
   ],
   "source": [
    "np.sum([beta(x)*P0(x, a, b)**2 for x in X])/M*2"
   ]
  },
  {
   "cell_type": "code",
   "execution_count": null,
   "id": "b77f1dfd",
   "metadata": {},
   "outputs": [
    {
     "data": {
      "text/plain": [
       "3.8787490909090914"
      ]
     },
     "execution_count": 203,
     "metadata": {},
     "output_type": "execute_result"
    }
   ],
   "source": [
    "np.sum([beta(x)*P1(x, a, b)**2 for x in X])/M*2"
   ]
  },
  {
   "cell_type": "code",
   "execution_count": null,
   "id": "df40c72b",
   "metadata": {},
   "outputs": [
    {
     "data": {
      "text/plain": [
       "5.251229538461539"
      ]
     },
     "execution_count": 204,
     "metadata": {},
     "output_type": "execute_result"
    }
   ],
   "source": [
    "np.sum([beta(x)*P2(x, a, b)**2 for x in X])/M*2"
   ]
  },
  {
   "cell_type": "code",
   "execution_count": null,
   "id": "1de0c5f0",
   "metadata": {},
   "outputs": [],
   "source": [
    "# needs nice proof"
   ]
  },
  {
   "cell_type": "markdown",
   "id": "73b6a721",
   "metadata": {},
   "source": [
    "## Exercise 2"
   ]
  },
  {
   "cell_type": "markdown",
   "id": "11dbeb42",
   "metadata": {},
   "source": [
    "//"
   ]
  },
  {
   "cell_type": "code",
   "execution_count": 2,
   "id": "1ffa2e82",
   "metadata": {},
   "outputs": [],
   "source": [
    "def function(x):\n",
    "    return np.exp(2 * x + np.sin(4*x))"
   ]
  },
  {
   "cell_type": "code",
   "execution_count": 26,
   "id": "2f8d4fa3",
   "metadata": {},
   "outputs": [],
   "source": [
    "# Define domain and range\n",
    "M = 25\n",
    "x = np.linspace(-1, 1, M)\n",
    "y = function(x)"
   ]
  },
  {
   "cell_type": "code",
   "execution_count": 27,
   "id": "0e48f67a",
   "metadata": {},
   "outputs": [],
   "source": [
    "# Approximate f by orthogonal projection with Legendre\n",
    "proj = np.polynomial.legendre.Legendre.fit(x, y, 8)\n",
    "\n",
    "# Approximate f by interpolation\n",
    "poly = lagrange(x, y)"
   ]
  },
  {
   "cell_type": "code",
   "execution_count": 28,
   "id": "7e0dabf2",
   "metadata": {},
   "outputs": [
    {
     "data": {
      "image/png": "[encoded data removed]",
      "text/plain": [
       "<Figure size 432x288 with 1 Axes>"
      ]
     },
     "metadata": {
      "needs_background": "light"
     },
     "output_type": "display_data"
    }
   ],
   "source": [
    "plt.plot(x, y, label = 'f(x)')\n",
    "plt.plot(x, proj(x), label = 'projection')\n",
    "plt.legend()\n",
    "plt.show()"
   ]
  },
  {
   "cell_type": "code",
   "execution_count": 29,
   "id": "251f1f01",
   "metadata": {},
   "outputs": [
    {
     "data": {
      "image/png": "[encoded data removed]",
      "text/plain": [
       "<Figure size 432x288 with 1 Axes>"
      ]
     },
     "metadata": {
      "needs_background": "light"
     },
     "output_type": "display_data"
    }
   ],
   "source": [
    "plt.plot(x, y, label = 'f(x)')\n",
    "plt.plot(x, Polynomial(poly.coef[::-1])(x), label = 'interpolation')\n",
    "plt.legend()\n",
    "plt.show()"
   ]
  },
  {
   "cell_type": "markdown",
   "id": "8976aca1",
   "metadata": {},
   "source": [
    "#### What is the approximation error in both cases?"
   ]
  },
  {
   "cell_type": "markdown",
   "id": "a610fe1f",
   "metadata": {},
   "source": [
    "L2 norm implementeren"
   ]
  },
  {
   "cell_type": "code",
   "execution_count": 30,
   "id": "c38654ed",
   "metadata": {},
   "outputs": [
    {
     "data": {
      "text/plain": [
       "0.611464322934266"
      ]
     },
     "execution_count": 30,
     "metadata": {},
     "output_type": "execute_result"
    }
   ],
   "source": [
    "# Compute the approximation error of orthogonal projection\n",
    "np.linalg.norm(function(x) - proj(x), 2)"
   ]
  },
  {
   "cell_type": "code",
   "execution_count": 31,
   "id": "c1abc7a0",
   "metadata": {},
   "outputs": [
    {
     "data": {
      "text/plain": [
       "0.002947749728092957"
      ]
     },
     "execution_count": 31,
     "metadata": {},
     "output_type": "execute_result"
    }
   ],
   "source": [
    "# Compute the approximation error of interpolation\n",
    "np.linalg.norm(function(x) - Polynomial(poly.coef[::-1])(x), 2)"
   ]
  },
  {
   "cell_type": "markdown",
   "id": "789fa8b5",
   "metadata": {},
   "source": [
    "#### How does the error change when the order (degree) of approximation is increased?"
   ]
  },
  {
   "cell_type": "code",
   "execution_count": 32,
   "id": "e5265874",
   "metadata": {},
   "outputs": [
    {
     "name": "stdout",
     "output_type": "stream",
     "text": [
      "order: 1 error: 6.802011695734931\n",
      "order: 2 error: 6.789761557743251\n",
      "order: 3 error: 4.070733348454837\n",
      "order: 4 error: 2.6978619681105878\n",
      "order: 5 error: 2.4342035829881827\n",
      "order: 6 error: 1.0920363138127296\n",
      "order: 7 error: 0.8724711865872685\n",
      "order: 8 error: 0.611464322934266\n",
      "order: 9 error: 0.2314347085765641\n",
      "order: 10 error: 0.23040416336663352\n",
      "order: 11 error: 0.1106211334760348\n",
      "order: 12 error: 0.050473938404391856\n",
      "order: 13 error: 0.04372476093962304\n",
      "order: 14 error: 0.013463883093952808\n",
      "order: 15 error: 0.009329383912898176\n",
      "order: 16 error: 0.005504991764426244\n",
      "order: 17 error: 0.0011234434412527936\n",
      "order: 18 error: 0.001085720391010025\n",
      "order: 19 error: 0.000403736129666946\n",
      "order: 20 error: 6.389602566006005e-05\n",
      "order: 21 error: 5.821822184074611e-05\n",
      "order: 22 error: 1.2019558089739996e-05\n",
      "order: 23 error: 8.411715302688875e-07\n",
      "order: 24 error: 1.9370948896450802e-13\n",
      "order: 25 error: 1.169370630262978e-13\n",
      "order: 26 error: 4.15174613446776e-14\n",
      "order: 27 error: 5.0243219337085494e-14\n",
      "order: 28 error: 7.44545165396414e-14\n",
      "order: 29 error: 5.095223698597208e-14\n",
      "order: 30 error: 2.1071000922179248e-13\n",
      "order: 31 error: 3.112846892058592e-14\n",
      "order: 32 error: 3.5062158802181504e-14\n",
      "order: 33 error: 5.133939750822057e-14\n",
      "order: 34 error: 2.952966287996318e-14\n",
      "order: 35 error: 1.472994490851277e-13\n",
      "order: 36 error: 1.1573211714589769e-13\n",
      "order: 37 error: 3.471611211813103e-14\n",
      "order: 38 error: 1.8604808916324902e-14\n",
      "order: 39 error: 2.364111975642869e-13\n",
      "order: 40 error: 1.8241339742746965e-13\n",
      "order: 41 error: 1.1155510371825192e-13\n",
      "order: 42 error: 2.8886101109181156e-14\n",
      "order: 43 error: 5.6258641576268934e-14\n",
      "order: 44 error: 1.567839378580285e-13\n",
      "order: 45 error: 7.105168228556667e-14\n",
      "order: 46 error: 2.1699462029996727e-13\n",
      "order: 47 error: 6.935599089950407e-14\n",
      "order: 48 error: 6.929153742492755e-14\n",
      "order: 49 error: 2.2991570258507746e-14\n"
     ]
    },
    {
     "name": "stderr",
     "output_type": "stream",
     "text": [
      "/Library/Frameworks/Python.framework/Versions/3.9/lib/python3.9/site-packages/numpy/polynomial/legendre.py:1411: RankWarning: The fit may be poorly conditioned\n",
      "  return pu._fit(legvander, x, y, deg, rcond, full, w)\n"
     ]
    },
    {
     "data": {
      "image/png": "[encoded data removed]",
      "text/plain": [
       "<Figure size 432x288 with 1 Axes>"
      ]
     },
     "metadata": {
      "needs_background": "light"
     },
     "output_type": "display_data"
    }
   ],
   "source": [
    "for i in range (1,50): \n",
    "    # Approximate f by orthogonal projection with Legendre\n",
    "    proj = np.polynomial.legendre.Legendre.fit(x, y, i)\n",
    "\n",
    "    # Compute the approximation error of orthogonal projection\n",
    "    error = np.linalg.norm(function(x) - proj(x), 2)\n",
    "    \n",
    "    plt.plot(i, error, marker='o')\n",
    "    \n",
    "    print(\"order:\", i, \"error:\", error)\n",
    "    \n",
    "plt.yscale('log')\n",
    "plt.show()"
   ]
  },
  {
   "cell_type": "markdown",
   "id": "cb90b286",
   "metadata": {},
   "source": [
    "Answer: there is a sudden switch from order 3 to 4, where the error is first of order $10^0$, but decreases suddenly to $10^{-15}$."
   ]
  },
  {
   "cell_type": "markdown",
   "id": "e051d0f4",
   "metadata": {},
   "source": [
    "Real Answer: it should be a straight line with the y axis on a logscale, so we did something wrong."
   ]
  },
  {
   "cell_type": "code",
   "execution_count": null,
   "id": "00c3f0ba",
   "metadata": {},
   "outputs": [],
   "source": []
  }
 ],
 "metadata": {
  "kernelspec": {
   "display_name": "Python 3 (ipykernel)",
   "language": "python",
   "name": "python3"
  },
  "language_info": {
   "codemirror_mode": {
    "name": "ipython",
    "version": 3
   },
   "file_extension": ".py",
   "mimetype": "text/x-python",
   "name": "python",
   "nbconvert_exporter": "python",
   "pygments_lexer": "ipython3",
   "version": "3.10.4"
  }
 },
 "nbformat": 4,
 "nbformat_minor": 5
}
