{
 "cells": [
  {
   "cell_type": "markdown",
   "id": "b4d184f7",
   "metadata": {},
   "source": [
    "# Homework set 1\n",
    "Sebastiaan Bye, Julius Wantenaar"
   ]
  },
  {
   "cell_type": "code",
   "execution_count": 6,
   "id": "3d00bbd7",
   "metadata": {},
   "outputs": [],
   "source": [
    "'''\n",
    "Packages\n",
    "'''\n",
    "import numpy as np\n",
    "import matplotlib.pyplot as plt\n",
    "from scipy.interpolate import lagrange"
   ]
  },
  {
   "cell_type": "markdown",
   "id": "ca7577a8",
   "metadata": {},
   "source": [
    "## Exercise 1."
   ]
  },
  {
   "cell_type": "markdown",
   "id": "45a760e2",
   "metadata": {},
   "source": [
    "The pdf of the beta distribution is\n",
    "$ p(z) = (1-z)^{6}(1+z)^2$.\n",
    "\n",
    "Notice that the Jaccobi polynominal\n",
    "\n",
    "$$P^{a,b}_n(x) = (1-x)^a(1+x)^b,$$\n",
    "\n",
    "is the same as $p(z)$ for $a=6$ and $b=2$.\n",
    "\n",
    "\n",
    "Bewijs uitwerken"
   ]
  },
  {
   "cell_type": "markdown",
   "id": "73b6a721",
   "metadata": {},
   "source": [
    "## Exercise 2."
   ]
  },
  {
   "cell_type": "code",
   "execution_count": 29,
   "id": "1ffa2e82",
   "metadata": {},
   "outputs": [],
   "source": [
    "def function(x):\n",
    "    return np.exp(2 * x + np.sin(4*x))"
   ]
  },
  {
   "cell_type": "code",
   "execution_count": 30,
   "id": "2f8d4fa3",
   "metadata": {},
   "outputs": [],
   "source": [
    "# Define domain and range\n",
    "x = np.linspace(-1, 1, 10)\n",
    "y = function(x)"
   ]
  },
  {
   "cell_type": "code",
   "execution_count": 31,
   "id": "0e48f67a",
   "metadata": {},
   "outputs": [],
   "source": [
    "# Approximate f by orthogonal projection with Legendre\n",
    "proj = np.polynomial.legendre.Legendre.fit(x, y, 2)\n",
    "\n",
    "# Approximate f by interpolation\n",
    "poly = lagrange(x, y)"
   ]
  },
  {
   "cell_type": "code",
   "execution_count": 32,
   "id": "7e0dabf2",
   "metadata": {},
   "outputs": [
    {
     "data": {
      "image/png": "[encoded data removed]",
      "text/plain": [
       "<Figure size 432x288 with 1 Axes>"
      ]
     },
     "metadata": {
      "needs_background": "light"
     },
     "output_type": "display_data"
    }
   ],
   "source": [
    "plt.plot(x, y, label = 'f(x)')\n",
    "plt.plot(x, poly, label = 'interpolation')\n",
    "plt.plot(x, proj(x), label = 'projection')\n",
    "plt.legend()\n",
    "plt.show()"
   ]
  },
  {
   "cell_type": "markdown",
   "id": "a610fe1f",
   "metadata": {},
   "source": [
    "L2 norm implementeren"
   ]
  },
  {
   "cell_type": "code",
   "execution_count": null,
   "id": "c1abc7a0",
   "metadata": {},
   "outputs": [],
   "source": []
  }
 ],
 "metadata": {
  "kernelspec": {
   "display_name": "Python 3 (ipykernel)",
   "language": "python",
   "name": "python3"
  },
  "language_info": {
   "codemirror_mode": {
    "name": "ipython",
    "version": 3
   },
   "file_extension": ".py",
   "mimetype": "text/x-python",
   "name": "python",
   "nbconvert_exporter": "python",
   "pygments_lexer": "ipython3",
   "version": "3.9.7"
  }
 },
 "nbformat": 4,
 "nbformat_minor": 5
}
