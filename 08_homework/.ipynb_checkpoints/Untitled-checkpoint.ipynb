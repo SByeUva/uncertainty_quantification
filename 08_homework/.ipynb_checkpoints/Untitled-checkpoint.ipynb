{
 "cells": [
  {
   "cell_type": "code",
   "execution_count": 1,
   "id": "bf1326b4",
   "metadata": {},
   "outputs": [],
   "source": [
    "import numpy as np\n",
    "import matplotlib.pyplot as plt"
   ]
  },
  {
   "cell_type": "code",
   "execution_count": 96,
   "id": "afbe0792",
   "metadata": {},
   "outputs": [],
   "source": [
    "def rho(x,y):\n",
    "    \n",
    "    V = (x-y)**2 + abs(x + y - 6)\n",
    "    return np.exp(-V)"
   ]
  },
  {
   "cell_type": "code",
   "execution_count": 97,
   "id": "17a6184c",
   "metadata": {},
   "outputs": [],
   "source": [
    "# Initial configuration\n",
    "u0 = np.matrix([[0], [0]])\n",
    "a = 1\n",
    "dim = 2\n",
    "covariance = np.matrix([[a, 0], [0, a]])\n",
    "A = np.linalg.cholesky(covariance)\n",
    "mu = u0"
   ]
  },
  {
   "cell_type": "code",
   "execution_count": 152,
   "id": "7323b89e",
   "metadata": {},
   "outputs": [],
   "source": [
    "# Sample from distribution and shift mean by previous state of Markov Chain\n",
    "Z = np.random.normal(size = (d, 1))\n",
    "q = A.dot(Z) + mu"
   ]
  },
  {
   "cell_type": "code",
   "execution_count": 153,
   "id": "9e644988",
   "metadata": {},
   "outputs": [
    {
     "data": {
      "text/plain": [
       "matrix([[-0.64003425],\n",
       "        [-0.08083756]])"
      ]
     },
     "execution_count": 153,
     "metadata": {},
     "output_type": "execute_result"
    }
   ],
   "source": [
    "# Generate candiate\n",
    "q"
   ]
  },
  {
   "cell_type": "code",
   "execution_count": 154,
   "id": "efa80086",
   "metadata": {},
   "outputs": [],
   "source": [
    "alpha = rho(q[0], q[1])"
   ]
  },
  {
   "cell_type": "code",
   "execution_count": 155,
   "id": "932b57a1",
   "metadata": {},
   "outputs": [
    {
     "data": {
      "text/plain": [
       "matrix([[0.00088178]])"
      ]
     },
     "execution_count": 155,
     "metadata": {},
     "output_type": "execute_result"
    }
   ],
   "source": [
    "alpha"
   ]
  },
  {
   "cell_type": "code",
   "execution_count": 159,
   "id": "390ea71f",
   "metadata": {},
   "outputs": [],
   "source": [
    "# Define desired sample size\n",
    "n = 10\n",
    "samples = []"
   ]
  },
  {
   "cell_type": "code",
   "execution_count": null,
   "id": "8355223a",
   "metadata": {},
   "outputs": [],
   "source": [
    "while len(samples) < n:\n",
    "    \n",
    "    \n",
    "    \n",
    "    # Draw random number\n",
    "    Z = np.random.normal(size = (d, 1))\n",
    "    # Shift\n",
    "    q = A.dot(Z) + mu"
   ]
  },
  {
   "cell_type": "code",
   "execution_count": null,
   "id": "81305a4f",
   "metadata": {},
   "outputs": [],
   "source": []
  },
  {
   "cell_type": "code",
   "execution_count": 158,
   "id": "7806694b",
   "metadata": {},
   "outputs": [
    {
     "name": "stdout",
     "output_type": "stream",
     "text": [
      "accept\n",
      "accept\n",
      "accept\n",
      "accept\n",
      "accept\n",
      "accept\n",
      "accept\n"
     ]
    }
   ],
   "source": [
    "for ii in range(10_000):\n",
    "    if np.random.uniform() < alpha:\n",
    "        print('accept')"
   ]
  },
  {
   "cell_type": "code",
   "execution_count": null,
   "id": "9485bd41",
   "metadata": {},
   "outputs": [],
   "source": []
  }
 ],
 "metadata": {
  "kernelspec": {
   "display_name": "Python 3 (ipykernel)",
   "language": "python",
   "name": "python3"
  },
  "language_info": {
   "codemirror_mode": {
    "name": "ipython",
    "version": 3
   },
   "file_extension": ".py",
   "mimetype": "text/x-python",
   "name": "python",
   "nbconvert_exporter": "python",
   "pygments_lexer": "ipython3",
   "version": "3.9.7"
  }
 },
 "nbformat": 4,
 "nbformat_minor": 5
}
