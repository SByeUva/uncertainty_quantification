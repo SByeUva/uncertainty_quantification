{
 "cells": [
  {
   "cell_type": "code",
   "execution_count": 2,
   "id": "b93bd811",
   "metadata": {},
   "outputs": [],
   "source": [
    "import numpy as np\n",
    "#import chaospy as cp\n",
    "import matplotlib.pyplot as plt\n",
    "import math"
   ]
  },
  {
   "cell_type": "markdown",
   "id": "db37dfe9",
   "metadata": {},
   "source": [
    "## Port of SEIR model from matlab"
   ]
  },
  {
   "cell_type": "code",
   "execution_count": 3,
   "id": "3c8049ea",
   "metadata": {},
   "outputs": [],
   "source": [
    "def deriv_x(x,b,T,tau):\n",
    "    S=x[0];E=x[1];I=x[2];R=x[3]\n",
    "    N=S+E+I+R\n",
    "    \n",
    "    Sd = -b*S*I/N\n",
    "    Ed = b*S*I/N - (1/T)*E\n",
    "    Id = (1/T)*E - (1/tau)*I\n",
    "    Rd = (1/tau)*I\n",
    "    \n",
    "    return np.array([Sd, Ed, Id, Rd])"
   ]
  },
  {
   "cell_type": "code",
   "execution_count": 4,
   "id": "6094e971",
   "metadata": {},
   "outputs": [],
   "source": [
    "def seir_model(R0, T, tau):\n",
    "    N = 10_000 # population size\n",
    "    \n",
    "    b = R0/tau\n",
    "    \n",
    "    # initial_state\n",
    "    E=0\n",
    "    I=10\n",
    "    R=0\n",
    "    S=N-E-I-R\n",
    "    \n",
    "    T_end = 500\n",
    "    dt = 0.01\n",
    "    \n",
    "    Nt = math.ceil(T_end/dt)\n",
    "    Xoutput = np.zeros((Nt, 4))\n",
    "    \n",
    "    x = [S,E,I,R]\n",
    "    \n",
    "    for n in range(Nt):\n",
    "        Xoutput[n,:] = x\n",
    "        xdot = deriv_x(x,b,T,tau)\n",
    "        x2 = x+dt*xdot/2\n",
    "        xdot2 = deriv_x(x2,b,T,tau)\n",
    "        x=x+dt*xdot2\n",
    "    return Xoutput"
   ]
  },
  {
   "cell_type": "code",
   "execution_count": 5,
   "id": "2788b576",
   "metadata": {},
   "outputs": [],
   "source": [
    "output = seir_model(5,200,2)"
   ]
  },
  {
   "cell_type": "code",
   "execution_count": 6,
   "id": "0d3e079f",
   "metadata": {},
   "outputs": [
    {
     "data": {
      "text/plain": [
       "[<matplotlib.lines.Line2D at 0x1f47183eee0>]"
      ]
     },
     "execution_count": 6,
     "metadata": {},
     "output_type": "execute_result"
    },
    {
     "data": {
      "image/png": "[encoded data removed]",
      "text/plain": [
       "<Figure size 432x288 with 1 Axes>"
      ]
     },
     "metadata": {
      "needs_background": "light"
     },
     "output_type": "display_data"
    }
   ],
   "source": [
    "plt.plot(output[:,2])"
   ]
  },
  {
   "cell_type": "markdown",
   "id": "23b600ea",
   "metadata": {},
   "source": [
    "## Quantity of Interest"
   ]
  },
  {
   "cell_type": "markdown",
   "id": "6bc90f16",
   "metadata": {},
   "source": [
    "## Stochastic Collocation"
   ]
  },
  {
   "cell_type": "code",
   "execution_count": 10,
   "id": "0b9fea7f",
   "metadata": {},
   "outputs": [],
   "source": [
    "def seir_qoi(R0, T, tau):\n",
    "    output = seir_model(R0,T,tau)\n",
    "    return max(output[:,2])"
   ]
  },
  {
   "cell_type": "code",
   "execution_count": 11,
   "id": "d9b18017",
   "metadata": {},
   "outputs": [],
   "source": [
    "def Clenshaw_Curtis(M, domain = [-1, 1]):\n",
    "    \"\"\"\n",
    "    Calculates M Clenshaw-Curtis nodes on the specified interval\n",
    "    NOTE give values 2**(n) + 1 for sequence of n = 1,2,... for nested nodes\n",
    "    \"\"\"\n",
    "    nodes = []\n",
    "    dom_len = domain[1]-domain[0]\n",
    "    dom_shift = domain[0]\n",
    "\n",
    "    nodes = dom_len/2*(np.cos(np.arange(M)*np.pi/(M-1)) + 1) + domain[0]\n",
    "    \n",
    "    return nodes\n",
    "\n",
    "def Lagrange(Z, Z_vals, k):\n",
    "    \"\"\"\n",
    "    Lagrange k-th polynomial in the point Z and given points Z_val\n",
    "    \"\"\"\n",
    "    res = 1\n",
    "\n",
    "    for Z_i in Z_vals:\n",
    "        if Z_i == Z_vals[k]:\n",
    "            continue\n",
    "        res *= (Z - Z_i)/(Z_vals[k] - Z_i)\n",
    "\n",
    "    return res"
   ]
  },
  {
   "cell_type": "code",
   "execution_count": 12,
   "id": "a067de34",
   "metadata": {},
   "outputs": [],
   "source": [
    "M=5\n",
    "R0_nodes = Clenshaw_Curtis(M, domain = [1.5,3])\n",
    "T_nodes = Clenshaw_Curtis(M, domain = [5,10])\n",
    "tau_nodes = Clenshaw_Curtis(M, domain = [1,14])"
   ]
  },
  {
   "cell_type": "code",
   "execution_count": 13,
   "id": "a6d494cc",
   "metadata": {},
   "outputs": [],
   "source": [
    "ans=np.zeros((M,M,M))\n",
    "i=0\n",
    "for R0 in R0_nodes:\n",
    "    j=0\n",
    "    for T in T_nodes:\n",
    "        k=0\n",
    "        for tau in tau_nodes:\n",
    "            ans[i,j,k] = seir_qoi(R0, T, tau)\n",
    "            k+=1\n",
    "        j+=1\n",
    "    i+=1"
   ]
  },
  {
   "cell_type": "markdown",
   "id": "2f7a0af3",
   "metadata": {},
   "source": [
    "## Interpolate"
   ]
  },
  {
   "cell_type": "code",
   "execution_count": 56,
   "id": "f5527e02",
   "metadata": {},
   "outputs": [],
   "source": [
    "def interpolate_mutli_d(R0_nodes, T_nodes, tau_nodes, M, R0_draw, T_draw, tau_draw):\n",
    "    value=0\n",
    "    for i in range(M-1):\n",
    "        for j in range(M-1):\n",
    "            for k in range(M-1):\n",
    "                value+=ans[i,j,0]*Lagrange(R0_draw, R0_nodes, i)*Lagrange(T_draw, T_nodes, j)*Lagrange(tau_draw, tau_nodes, k)\n",
    "    return value"
   ]
  },
  {
   "cell_type": "code",
   "execution_count": 57,
   "id": "6dca9851",
   "metadata": {},
   "outputs": [],
   "source": [
    "def seir_script(N, R0_nodes, T_nodes, tau_nodes, M):\n",
    "    ans = np.zeros(N)\n",
    "    for n in range(N):\n",
    "        R0_draw=np.random.uniform()*1.5 + 1.5\n",
    "        T_draw=np.random.uniform()*5+5\n",
    "        tau_draw=1+13*np.random.beta(2,2)\n",
    "\n",
    "        ans[n] = interpolate_mutli_d(R0_nodes, T_nodes, tau_nodes, M, R0_draw, T_draw, tau_draw)\n",
    "    return ans"
   ]
  },
  {
   "cell_type": "code",
   "execution_count": 60,
   "id": "cc4fc0f5",
   "metadata": {},
   "outputs": [],
   "source": [
    "data = seir_script(10000, R0_nodes, T_nodes, tau_nodes, M)"
   ]
  },
  {
   "cell_type": "code",
   "execution_count": 61,
   "id": "ce8f8272",
   "metadata": {},
   "outputs": [
    {
     "data": {
      "text/plain": [
       "(array([ 743.,  841., 1141., 1848., 1992., 1799.,  978.,  435.,  169.,\n",
       "          54.]),\n",
       " array([7.98383662e-01, 2.92275617e+02, 5.83752851e+02, 8.75230085e+02,\n",
       "        1.16670732e+03, 1.45818455e+03, 1.74966179e+03, 2.04113902e+03,\n",
       "        2.33261625e+03, 2.62409349e+03, 2.91557072e+03]),\n",
       " <BarContainer object of 10 artists>)"
      ]
     },
     "execution_count": 61,
     "metadata": {},
     "output_type": "execute_result"
    },
    {
     "data": {
      "image/png": "[encoded data removed]",
      "text/plain": [
       "<Figure size 432x288 with 1 Axes>"
      ]
     },
     "metadata": {
      "needs_background": "light"
     },
     "output_type": "display_data"
    }
   ],
   "source": [
    "plt.hist(data)"
   ]
  },
  {
   "cell_type": "markdown",
   "id": "d938843b",
   "metadata": {},
   "source": [
    "# very small chance"
   ]
  },
  {
   "cell_type": "code",
   "execution_count": 65,
   "id": "c1cbf9cb",
   "metadata": {},
   "outputs": [
    {
     "data": {
      "text/plain": [
       "0.3158"
      ]
     },
     "execution_count": 65,
     "metadata": {},
     "output_type": "execute_result"
    }
   ],
   "source": [
    "# maybe 1500\n",
    "len(data[data>1500])/len(data)"
   ]
  }
 ],
 "metadata": {
  "kernelspec": {
   "display_name": "Python 3 (ipykernel)",
   "language": "python",
   "name": "python3"
  },
  "language_info": {
   "codemirror_mode": {
    "name": "ipython",
    "version": 3
   },
   "file_extension": ".py",
   "mimetype": "text/x-python",
   "name": "python",
   "nbconvert_exporter": "python",
   "pygments_lexer": "ipython3",
   "version": "3.9.7"
  }
 },
 "nbformat": 4,
 "nbformat_minor": 5
}
