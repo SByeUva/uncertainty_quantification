{
 "cells": [
  {
   "cell_type": "code",
   "execution_count": 1,
   "id": "b93bd811",
   "metadata": {},
   "outputs": [],
   "source": [
    "import numpy as np\n",
    "import chaospy as cp\n",
    "import matplotlib.pyplot as plt\n",
    "import math"
   ]
  },
  {
   "cell_type": "markdown",
   "id": "db37dfe9",
   "metadata": {},
   "source": [
    "## Port of SEIR model from matlab"
   ]
  },
  {
   "cell_type": "code",
   "execution_count": 2,
   "id": "3c8049ea",
   "metadata": {},
   "outputs": [],
   "source": [
    "def deriv_x(x,b,T,tau):\n",
    "    S=x[0];E=x[1];I=x[2];R=x[3]\n",
    "    N=S+E+I+R\n",
    "    \n",
    "    Sd = -b*S*I/N\n",
    "    Ed = b*S*I/N - (1/T)*E\n",
    "    Id = (1/T)*E - (1/tau)*I\n",
    "    Rd = (1/tau)*I\n",
    "    \n",
    "    return np.array([Sd, Ed, Id, Rd])"
   ]
  },
  {
   "cell_type": "code",
   "execution_count": 3,
   "id": "6094e971",
   "metadata": {},
   "outputs": [],
   "source": [
    "def seir_model(R0, T, tau):\n",
    "    N = 10_000 # population size\n",
    "    \n",
    "    b = R0/tau\n",
    "    \n",
    "    # initial_state\n",
    "    E=0\n",
    "    I=10\n",
    "    R=0\n",
    "    S=N-E-I-R\n",
    "    \n",
    "    T_end = 500\n",
    "    dt = 0.01\n",
    "    \n",
    "    Nt = math.ceil(T_end/dt)\n",
    "    Xoutput = np.zeros((Nt, 4))\n",
    "    \n",
    "    x = [S,E,I,R]\n",
    "    \n",
    "    for n in range(Nt):\n",
    "        Xoutput[n,:] = x\n",
    "        xdot = deriv_x(x,b,T,tau)\n",
    "        x2 = x+dt*xdot/2\n",
    "        xdot2 = deriv_x(x2,b,T,tau)\n",
    "        x=x+dt*xdot2\n",
    "    return Xoutput"
   ]
  },
  {
   "cell_type": "code",
   "execution_count": 4,
   "id": "2788b576",
   "metadata": {},
   "outputs": [],
   "source": [
    "output = seir_model(5,200,2)"
   ]
  },
  {
   "cell_type": "code",
   "execution_count": 5,
   "id": "0d3e079f",
   "metadata": {},
   "outputs": [
    {
     "data": {
      "text/plain": [
       "[<matplotlib.lines.Line2D at 0x17ab774f340>]"
      ]
     },
     "execution_count": 5,
     "metadata": {},
     "output_type": "execute_result"
    },
    {
     "data": {
      "image/png": "[encoded data removed]",
      "text/plain": [
       "<Figure size 432x288 with 1 Axes>"
      ]
     },
     "metadata": {
      "needs_background": "light"
     },
     "output_type": "display_data"
    }
   ],
   "source": [
    "plt.plot(output[:,2])"
   ]
  },
  {
   "cell_type": "markdown",
   "id": "23b600ea",
   "metadata": {},
   "source": [
    "## Quantity of Interest"
   ]
  },
  {
   "cell_type": "code",
   "execution_count": 6,
   "id": "82243267",
   "metadata": {},
   "outputs": [
    {
     "data": {
      "text/plain": [
       "0.8773306590879705"
      ]
     },
     "execution_count": 6,
     "metadata": {},
     "output_type": "execute_result"
    }
   ],
   "source": [
    "np.random.beta(2,2)"
   ]
  },
  {
   "cell_type": "code",
   "execution_count": 7,
   "id": "dc3d726b",
   "metadata": {},
   "outputs": [],
   "source": [
    "def seir_script(N):\n",
    "    ans = np.zeros(N)\n",
    "    for n in range(N):\n",
    "        R0=np.random.uniform()*1.5 + 1.5\n",
    "        T=np.random.uniform()*5+5\n",
    "        tau=1+13*np.random.beta(2,2)\n",
    "\n",
    "        output = seir_model(R0,T,tau)\n",
    "        Q = max(output[:,2])\n",
    "        ans[n] = Q\n",
    "    return ans"
   ]
  },
  {
   "cell_type": "code",
   "execution_count": 8,
   "id": "9d49b4dd",
   "metadata": {
    "scrolled": true
   },
   "outputs": [
    {
     "data": {
      "text/plain": [
       "array([ 231.19628378,  785.72545968, 1088.02079641,  551.66860208,\n",
       "        549.8380916 ,  873.81358847,  920.15654142, 1724.91510543,\n",
       "        573.21303062, 1508.16549882,  721.7672012 ,  815.46271127,\n",
       "       1286.44442888, 1432.1482521 , 1350.88564079,  559.87204994,\n",
       "       1319.63686607,  870.29617503, 1160.75977792,  539.22669546])"
      ]
     },
     "execution_count": 8,
     "metadata": {},
     "output_type": "execute_result"
    }
   ],
   "source": [
    "seir_script(20)"
   ]
  },
  {
   "cell_type": "markdown",
   "id": "6bc90f16",
   "metadata": {},
   "source": [
    "## Stochastic Collocation"
   ]
  },
  {
   "cell_type": "code",
   "execution_count": 9,
   "id": "0b9fea7f",
   "metadata": {},
   "outputs": [],
   "source": [
    "def seir_qoi(R0, T, tau):\n",
    "    output = seir_model(R0,T,tau)\n",
    "    return max(output[:,2])"
   ]
  },
  {
   "cell_type": "code",
   "execution_count": 10,
   "id": "d9b18017",
   "metadata": {},
   "outputs": [],
   "source": [
    "def Clenshaw_Curtis(M, domain = [-1, 1]):\n",
    "    \"\"\"\n",
    "    Calculates M Clenshaw-Curtis nodes on the specified interval\n",
    "    NOTE give values 2**(n) + 1 for sequence of n = 1,2,... for nested nodes\n",
    "    \"\"\"\n",
    "    nodes = []\n",
    "    dom_len = domain[1]-domain[0]\n",
    "    dom_shift = domain[0]\n",
    "\n",
    "    nodes = dom_len/2*(np.cos(np.arange(M)*np.pi/(M-1)) + 1) + domain[0]\n",
    "    \n",
    "    return nodes\n",
    "\n",
    "def Lagrange(Z, Z_vals, k):\n",
    "    \"\"\"\n",
    "    Lagrange k-th polynomial in the point Z and given points Z_val\n",
    "    \"\"\"\n",
    "    res = 1\n",
    "\n",
    "    for Z_i in Z_vals:\n",
    "        if Z_i == Z_vals[k]:\n",
    "            continue\n",
    "        res *= (Z - Z_i)/(Z_vals[k] - Z_i)\n",
    "\n",
    "    return res"
   ]
  },
  {
   "cell_type": "code",
   "execution_count": 11,
   "id": "a067de34",
   "metadata": {},
   "outputs": [],
   "source": [
    "M=3\n",
    "R0_nodes = Clenshaw_Curtis(M, domain = [1.5,3])\n",
    "T_nodes = Clenshaw_Curtis(M, domain = [5,10])\n",
    "tau_nodes = Clenshaw_Curtis(M, domain = [1,14])"
   ]
  },
  {
   "cell_type": "code",
   "execution_count": 12,
   "id": "a6d494cc",
   "metadata": {},
   "outputs": [],
   "source": [
    "ans=np.zeros((M,M,M))\n",
    "i=0\n",
    "for R0 in R0_nodes:\n",
    "    j=0\n",
    "    for T in T_nodes:\n",
    "        k=0\n",
    "        for tau in tau_nodes:\n",
    "            ans[i,j,k] = seir_qoi(R0, T, tau)\n",
    "            k+=1\n",
    "        j+=1\n",
    "    i+=1"
   ]
  },
  {
   "cell_type": "code",
   "execution_count": 14,
   "id": "a41d7216",
   "metadata": {},
   "outputs": [
    {
     "data": {
      "text/plain": [
       "array([[[1715.38859537, 1259.92512293,  272.60480069],\n",
       "        [1919.5125426 , 1468.74244887,  352.17259178],\n",
       "        [2182.58477564, 1765.23329596,  497.13597286]],\n",
       "\n",
       "       [[1127.44058483,  828.18927662,  177.53825855],\n",
       "        [1260.26220772,  965.78291155,  229.55849304],\n",
       "        [1429.88130332, 1159.96341152,  324.62084032]],\n",
       "\n",
       "       [[ 370.50205588,  272.19447722,   57.88133487],\n",
       "        [ 413.72477829,  317.52386586,   74.89117499],\n",
       "        [ 468.46433311,  381.11340685,  106.05302288]]])"
      ]
     },
     "execution_count": 14,
     "metadata": {},
     "output_type": "execute_result"
    }
   ],
   "source": [
    "ans"
   ]
  },
  {
   "cell_type": "code",
   "execution_count": null,
   "id": "6dca9851",
   "metadata": {},
   "outputs": [],
   "source": []
  }
 ],
 "metadata": {
  "kernelspec": {
   "display_name": "Python 3 (ipykernel)",
   "language": "python",
   "name": "python3"
  },
  "language_info": {
   "codemirror_mode": {
    "name": "ipython",
    "version": 3
   },
   "file_extension": ".py",
   "mimetype": "text/x-python",
   "name": "python",
   "nbconvert_exporter": "python",
   "pygments_lexer": "ipython3",
   "version": "3.10.4"
  }
 },
 "nbformat": 4,
 "nbformat_minor": 5
}
