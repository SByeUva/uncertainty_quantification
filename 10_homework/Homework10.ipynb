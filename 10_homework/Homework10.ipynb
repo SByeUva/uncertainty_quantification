{
 "cells": [
  {
   "cell_type": "code",
   "execution_count": 1,
   "id": "c24d4d29",
   "metadata": {},
   "outputs": [],
   "source": [
    "import numpy as np\n",
    "import matplotlib.pyplot as plt\n",
    "import scipy"
   ]
  },
  {
   "cell_type": "code",
   "execution_count": 112,
   "id": "6143ff34",
   "metadata": {},
   "outputs": [],
   "source": [
    "def f(x, weights):\n",
    "    return np.matmul(weights.transpose(),x)\n",
    "\n",
    "def prop_dist(weights, S):\n",
    "    return np.random.multivariate_normal(weights.reshape(1,-1)[0], S).reshape(-1,1)\n",
    "\n",
    "def feature_space(x):\n",
    "    return np.array([1,x[0]])\n",
    "\n",
    "def get_A(X, error_sigma, cov_inverse):\n",
    "    return X*X.transpose()/error_sigma**2+cov_inverse\n",
    "\n",
    "def get_w_bar(A, X, y, error_sigma):\n",
    "    return np.matmul((1/error_sigma**2)*np.linalg.inv(A), x*y)\n",
    "\n",
    "def get_posterior(w, X, y, error_sigma, cov_inverse):\n",
    "    A = get_A(X, error_sigma, cov_inverse)\n",
    "    w_bar = get_w_bar(A, X, y, error_sigma)\n",
    "    \n",
    "    return -0.5*np.matmul((w-w_bar).transpose(),np.matmul(A,(w-w_bar)))\n",
    "\n",
    "def MCMC(M, cov, x, y, start, error_sigma, cov_inverse):\n",
    "    # step count\n",
    "    N = 1\n",
    "\n",
    "    # accepted sample count\n",
    "    N_samples = 0\n",
    "    \n",
    "    curr_weights = start\n",
    "    \n",
    "    # calculate prev_ration for the starting position\n",
    "    prev_posterior = get_posterior(curr_weights, x, y, error_sigma, cov_inverse)\n",
    "\n",
    "    while N_samples < M:\n",
    "        # new proposal point\n",
    "        prop_weights = prop_dist(curr_weights, cov)\n",
    "\n",
    "        # log of posterior distribution\n",
    "        posterior = get_posterior(prop_weights, x, y, error_sigma, cov_inverse)\n",
    "        \n",
    "        # log of accept prob\n",
    "        accept_prob = min(0, posterior-prev_posterior)\n",
    "\n",
    "        # see if we accept new point\n",
    "        if np.log(np.random.rand()) < accept_prob:\n",
    "            # change current state of MC\n",
    "            curr_weights = prop_weights\n",
    "            prev_posterior = posterior\n",
    "            N_samples += 1\n",
    "        \n",
    "    return curr_weights, N"
   ]
  },
  {
   "cell_type": "code",
   "execution_count": 3,
   "id": "00b8d0c3",
   "metadata": {},
   "outputs": [],
   "source": [
    "sigma_error=0.05"
   ]
  },
  {
   "cell_type": "code",
   "execution_count": 4,
   "id": "ec8a8e56",
   "metadata": {},
   "outputs": [],
   "source": [
    "data = [(-2,-1), (-1,-0.1), (0,0.2), (1,0.1), (2,0.5)]"
   ]
  },
  {
   "cell_type": "code",
   "execution_count": 5,
   "id": "95551772",
   "metadata": {},
   "outputs": [],
   "source": [
    "x=[]\n",
    "y=[]\n",
    "for datapoint in data:\n",
    "    x.append(datapoint[0])\n",
    "    y.append(datapoint[1])\n",
    "    \n",
    "#vectorize\n",
    "x = np.array(x).reshape(-1,1)\n",
    "y = np.array(y).reshape(-1,1)"
   ]
  },
  {
   "cell_type": "code",
   "execution_count": 6,
   "id": "9fc4bf98",
   "metadata": {},
   "outputs": [
    {
     "data": {
      "text/plain": [
       "[<matplotlib.lines.Line2D at 0x2a09fa78760>]"
      ]
     },
     "execution_count": 6,
     "metadata": {},
     "output_type": "execute_result"
    },
    {
     "data": {
      "image/png": "[encoded data removed]",
      "text/plain": [
       "<Figure size 432x288 with 1 Axes>"
      ]
     },
     "metadata": {
      "needs_background": "light"
     },
     "output_type": "display_data"
    }
   ],
   "source": [
    "plt.plot(x,y)"
   ]
  },
  {
   "cell_type": "code",
   "execution_count": 7,
   "id": "af84bc8a",
   "metadata": {},
   "outputs": [],
   "source": [
    "# training weights-> MCMC??"
   ]
  },
  {
   "cell_type": "code",
   "execution_count": 78,
   "id": "04810a9d",
   "metadata": {},
   "outputs": [],
   "source": [
    "cov = np.diag(([1]*len(data)))\n",
    "cov_inv = np.linalg.inv(cov)\n",
    "\n",
    "prior_weights = np.random.multivariate_normal([0]*len(data), cov).reshape(-1,1)"
   ]
  },
  {
   "cell_type": "code",
   "execution_count": 80,
   "id": "f3cd48e9",
   "metadata": {},
   "outputs": [
    {
     "data": {
      "text/plain": [
       "array([-1.06031055,  0.18370111,  0.09739009, -0.09747222,  1.43973343])"
      ]
     },
     "execution_count": 80,
     "metadata": {},
     "output_type": "execute_result"
    }
   ],
   "source": [
    "prop_dist(prior_weights, cov)"
   ]
  },
  {
   "cell_type": "code",
   "execution_count": 113,
   "id": "09fbfa54",
   "metadata": {},
   "outputs": [],
   "source": [
    "weights, N = MCMC(1000, cov, x, y, prior_weights, sigma_error, cov_inv)"
   ]
  },
  {
   "cell_type": "code",
   "execution_count": 114,
   "id": "f2cf388e",
   "metadata": {},
   "outputs": [],
   "source": [
    "outcome=[]\n",
    "for i in range(len(x)):\n",
    "    outcome.append(f(x[i], weights[i]))"
   ]
  },
  {
   "cell_type": "code",
   "execution_count": 119,
   "id": "e73531da",
   "metadata": {},
   "outputs": [
    {
     "data": {
      "text/plain": [
       "[<matplotlib.lines.Line2D at 0x2a0b8ca07c0>]"
      ]
     },
     "execution_count": 119,
     "metadata": {},
     "output_type": "execute_result"
    },
    {
     "data": {
      "image/png": "[encoded data removed]",
      "text/plain": [
       "<Figure size 432x288 with 1 Axes>"
      ]
     },
     "metadata": {
      "needs_background": "light"
     },
     "output_type": "display_data"
    }
   ],
   "source": [
    "plt.plot(x, outcome)\n",
    "plt.plot(x, y)"
   ]
  },
  {
   "cell_type": "code",
   "execution_count": 118,
   "id": "4149da53",
   "metadata": {},
   "outputs": [
    {
     "data": {
      "text/plain": [
       "[<matplotlib.lines.Line2D at 0x2a0b8c69450>]"
      ]
     },
     "execution_count": 118,
     "metadata": {},
     "output_type": "execute_result"
    },
    {
     "data": {
      "image/png": "[encoded data removed]",
      "text/plain": [
       "<Figure size 432x288 with 1 Axes>"
      ]
     },
     "metadata": {
      "needs_background": "light"
     },
     "output_type": "display_data"
    }
   ],
   "source": [
    "plt.plot(x, [x/1000 for x in outcome])\n",
    "plt.plot(x, y)"
   ]
  }
 ],
 "metadata": {
  "kernelspec": {
   "display_name": "Python 3 (ipykernel)",
   "language": "python",
   "name": "python3"
  },
  "language_info": {
   "codemirror_mode": {
    "name": "ipython",
    "version": 3
   },
   "file_extension": ".py",
   "mimetype": "text/x-python",
   "name": "python",
   "nbconvert_exporter": "python",
   "pygments_lexer": "ipython3",
   "version": "3.10.4"
  }
 },
 "nbformat": 4,
 "nbformat_minor": 5
}
