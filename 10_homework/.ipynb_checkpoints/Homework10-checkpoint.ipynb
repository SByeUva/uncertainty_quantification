{
 "cells": [
  {
   "cell_type": "code",
   "execution_count": 1,
   "id": "c24d4d29",
   "metadata": {},
   "outputs": [],
   "source": [
    "import numpy as np\n",
    "import matplotlib.pyplot as plt\n",
    "import scipy"
   ]
  },
  {
   "cell_type": "code",
   "execution_count": 2,
   "id": "6143ff34",
   "metadata": {},
   "outputs": [],
   "source": [
    "def f(x, weights):\n",
    "    return np.matmul(weights.transpose(),x)\n",
    "\n",
    "def prop_dist(weights, S):\n",
    "    return np.random.multivariate_normal(weights.reshape(1,-1)[0], S).reshape(-1,1)\n",
    "\n",
    "def feature_space(x):\n",
    "    return np.array([1,x[0]])\n",
    "\n",
    "def get_A(X, error_sigma, cov_inverse):\n",
    "    return X*X.transpose()/error_sigma**2+cov_inverse\n",
    "\n",
    "def get_w_bar(A, X, y, error_sigma):\n",
    "    return np.matmul((1/error_sigma**2)*np.linalg.inv(A), x*y)\n",
    "\n",
    "def get_posterior(w, X, y, error_sigma, cov_inverse):\n",
    "    A = get_A(X, error_sigma, cov_inverse)\n",
    "    w_bar = get_w_bar(A, X, y, error_sigma)\n",
    "    \n",
    "    return -0.5*np.matmul((w-w_bar).transpose(),np.matmul(A,(w-w_bar)))\n",
    "\n",
    "def MCMC(M, cov, x, y, start, error_sigma, cov_inverse):\n",
    "    # step count\n",
    "    N = 1\n",
    "\n",
    "    # accepted sample count\n",
    "    N_samples = 0\n",
    "    \n",
    "    curr_weights = start\n",
    "    \n",
    "    # calculate prev_ration for the starting position\n",
    "    prev_posterior = get_posterior(curr_weights, x, y, error_sigma, cov_inverse)\n",
    "\n",
    "    while N_samples < M:\n",
    "        # new proposal point\n",
    "        prop_weights = prop_dist(curr_weights, cov)\n",
    "\n",
    "        # log of posterior distribution\n",
    "        posterior = get_posterior(prop_weights, x, y, error_sigma, cov_inverse)\n",
    "        \n",
    "        # log of accept prob\n",
    "        accept_prob = min(0, posterior-prev_posterior)\n",
    "\n",
    "        # see if we accept new point\n",
    "        if np.log(np.random.rand()) < accept_prob:\n",
    "            # change current state of MC\n",
    "            curr_weights = prop_weights\n",
    "            prev_posterior = posterior\n",
    "            N_samples += 1\n",
    "        \n",
    "    return curr_weights, N"
   ]
  },
  {
   "cell_type": "code",
   "execution_count": 3,
   "id": "00b8d0c3",
   "metadata": {},
   "outputs": [],
   "source": [
    "sigma_error = 0.05"
   ]
  },
  {
   "cell_type": "code",
   "execution_count": 4,
   "id": "ec8a8e56",
   "metadata": {},
   "outputs": [],
   "source": [
    "data = [(-2,-1), (-1,-0.1), (0,0.2), (1,0.1), (2,0.5)]"
   ]
  },
  {
   "cell_type": "code",
   "execution_count": 5,
   "id": "95551772",
   "metadata": {},
   "outputs": [],
   "source": [
    "x=[]\n",
    "y=[]\n",
    "for datapoint in data:\n",
    "    x.append(datapoint[0])\n",
    "    y.append(datapoint[1])\n",
    "    \n",
    "#vectorize\n",
    "x = np.array(x).reshape(-1,1)\n",
    "y = np.array(y).reshape(-1,1)"
   ]
  },
  {
   "cell_type": "code",
   "execution_count": 8,
   "id": "9fc4bf98",
   "metadata": {},
   "outputs": [
    {
     "data": {
      "image/png": "[encoded data removed]",
      "text/plain": [
       "<Figure size 432x288 with 1 Axes>"
      ]
     },
     "metadata": {
      "needs_background": "light"
     },
     "output_type": "display_data"
    }
   ],
   "source": [
    "plt.plot(x,y, marker = 'o')\n",
    "plt.title('Data')\n",
    "plt.show()"
   ]
  },
  {
   "cell_type": "code",
   "execution_count": null,
   "id": "1986e1e2",
   "metadata": {},
   "outputs": [],
   "source": [
    "# Eqn 2.8"
   ]
  },
  {
   "cell_type": "code",
   "execution_count": 391,
   "id": "7982ac90",
   "metadata": {},
   "outputs": [],
   "source": [
    "# D / X\n",
    "design_matrix = np.ones((5,2))\n",
    "design_matrix[:, 1] = x[:,0]\n",
    "design_matrix = design_matrix.T"
   ]
  },
  {
   "cell_type": "code",
   "execution_count": 392,
   "id": "72e171ed",
   "metadata": {},
   "outputs": [
    {
     "data": {
      "text/plain": [
       "array([[ 1.,  1.,  1.,  1.,  1.],\n",
       "       [-2., -1.,  0.,  1.,  2.]])"
      ]
     },
     "execution_count": 392,
     "metadata": {},
     "output_type": "execute_result"
    }
   ],
   "source": [
    "design_matrix"
   ]
  },
  {
   "cell_type": "code",
   "execution_count": 359,
   "id": "bcbfcbb3",
   "metadata": {},
   "outputs": [],
   "source": [
    "#kernel = np.identity(len(x))\n",
    "kernel = np.identity(2)"
   ]
  },
  {
   "cell_type": "code",
   "execution_count": 360,
   "id": "20efd382",
   "metadata": {},
   "outputs": [],
   "source": [
    "#A = 1/(sigma_error**2) * design_matrix @ design_matrix.T + kernel\n",
    "A = 1/(sigma_error**2) * design_matrix @ design_matrix.T + kernel\n",
    "Ainv = np.linalg.inv(A)"
   ]
  },
  {
   "cell_type": "code",
   "execution_count": 361,
   "id": "ba68a622",
   "metadata": {},
   "outputs": [],
   "source": [
    "weight_bar = 1/(sigma_error**2) * (Ainv @ (design_matrix @ y))"
   ]
  },
  {
   "cell_type": "code",
   "execution_count": 362,
   "id": "7e6c470e",
   "metadata": {},
   "outputs": [
    {
     "data": {
      "text/plain": [
       "array([[-0.05997001],\n",
       "       [ 0.31992002]])"
      ]
     },
     "execution_count": 362,
     "metadata": {},
     "output_type": "execute_result"
    }
   ],
   "source": [
    "weight_bar"
   ]
  },
  {
   "cell_type": "code",
   "execution_count": 367,
   "id": "4f09dd5e",
   "metadata": {},
   "outputs": [],
   "source": [
    "weights = np.random.multivariate_normal(np.hstack(weight_bar), Ainv)\n",
    "ybar = weights[0] * 1 + weights[1] * x"
   ]
  },
  {
   "cell_type": "code",
   "execution_count": 368,
   "id": "95b388fe",
   "metadata": {},
   "outputs": [
    {
     "data": {
      "image/png": "[encoded data removed]",
      "text/plain": [
       "<Figure size 432x288 with 1 Axes>"
      ]
     },
     "metadata": {
      "needs_background": "light"
     },
     "output_type": "display_data"
    }
   ],
   "source": [
    "plt.plot(x, ybar, label = 'GP')\n",
    "plt.plot(x, y, label = 'Data')\n",
    "plt.legend()\n",
    "plt.show()"
   ]
  },
  {
   "cell_type": "code",
   "execution_count": 157,
   "id": "5c0ec452",
   "metadata": {},
   "outputs": [],
   "source": [
    "def linear_phi(x):\n",
    "    return np.array([1,x])\n",
    "\n",
    "def quadratic_phi(x):\n",
    "    return np.array([1,x,x**2])"
   ]
  },
  {
   "cell_type": "code",
   "execution_count": null,
   "id": "8d67c734",
   "metadata": {},
   "outputs": [],
   "source": []
  },
  {
   "cell_type": "code",
   "execution_count": 369,
   "id": "ff469d89",
   "metadata": {},
   "outputs": [],
   "source": [
    "class Gaussian_Process():\n",
    "    def __init__(self,x, y, sigma_error, N, kernel=None):\n",
    "        self.y = y\n",
    "        self.x = x\n",
    "        self.N = N\n",
    "        self.sigma_error = sigma_error\n",
    "        if kernel:\n",
    "            self.kernel = kernel\n",
    "        else:\n",
    "            self.kernel = np.identity(self.N)\n",
    "\n",
    "        self.trained=False\n",
    "\n",
    "    def phi(self, x):\n",
    "        return np.array([x**i for i in range(N)])\n",
    "        \n",
    "    def build_design_matrix(self):\n",
    "        self.design_matrix = np.ones((len(self.x),self.N))\n",
    "        for row in range(self.design_matrix.shape[0]):\n",
    "            self.design_matrix[row,:] = self.phi(self.x[row][0])\n",
    "        self.design_matrix = self.design_matrix.T\n",
    "            \n",
    "    def build_A(self):\n",
    "        self.A = 1/(self.sigma_error**2) * self.design_matrix @ self.design_matrix.T + self.kernel\n",
    "        self.Ainv = np.linalg.inv(self.A)\n",
    "    \n",
    "    def build_w_bar(self):\n",
    "        self.weight_bar = 1/(self.sigma_error**2) * (self.Ainv @ (self.design_matrix @ self.y))\n",
    "    \n",
    "    def train_x(self):\n",
    "        self.trained=True\n",
    "        self.build_design_matrix()\n",
    "        self.build_A()\n",
    "        self.build_w_bar()\n",
    "        \n",
    "    def get_sample(self):\n",
    "        #TODO: add to make \n",
    "        assert self.trained==True, 'train first'\n",
    "        self.weights = np.random.multivariate_normal(np.hstack(self.weight_bar), self.Ainv)\n",
    "        \n",
    "        self.ybar = np.zeros(self.y.shape)\n",
    "        for i in range(self.N):\n",
    "            self.ybar += self.weights[i] * self.x**i \n",
    "        \n",
    "        #self.ybar+= np.random.normal(0, self.sigma_error)\n",
    "            "
   ]
  },
  {
   "cell_type": "code",
   "execution_count": 386,
   "id": "0e7d6a0d",
   "metadata": {},
   "outputs": [],
   "source": [
    "N=3\n",
    "data = []\n",
    "gp = Gaussian_Process(x,y,sigma_error, N)\n",
    "gp.train_x()\n",
    "\n",
    "for ii in range(30):\n",
    "    \n",
    "    gp.get_sample()\n",
    "    data.append(gp.ybar)"
   ]
  },
  {
   "cell_type": "code",
   "execution_count": 389,
   "id": "f1ae31fc",
   "metadata": {},
   "outputs": [],
   "source": []
  },
  {
   "cell_type": "code",
   "execution_count": 390,
   "id": "2b6a84b6",
   "metadata": {},
   "outputs": [
    {
     "data": {
      "text/plain": [
       "array([[1., 1., 1., 1., 1.],\n",
       "       [1., 1., 1., 1., 1.],\n",
       "       [1., 1., 1., 1., 1.]])"
      ]
     },
     "execution_count": 390,
     "metadata": {},
     "output_type": "execute_result"
    }
   ],
   "source": [
    "design_matrix "
   ]
  },
  {
   "cell_type": "code",
   "execution_count": null,
   "id": "e236b8fc",
   "metadata": {},
   "outputs": [],
   "source": [
    "design_matrix = np.ones((N, len(x)))\n",
    "for row in range(gp.N):\n",
    "    self.design_matrix[row,:] = self.phi(self.x[row][0])\n",
    "self.design_matrix = self.design_matrix.T"
   ]
  },
  {
   "cell_type": "code",
   "execution_count": 381,
   "id": "fdb63f6c",
   "metadata": {},
   "outputs": [
    {
     "data": {
      "text/plain": [
       "array([[1., 1., 1., 1., 1.],\n",
       "       [1., 1., 1., 1., 1.],\n",
       "       [1., 1., 1., 1., 1.]])"
      ]
     },
     "execution_count": 381,
     "metadata": {},
     "output_type": "execute_result"
    }
   ],
   "source": [
    "gp.design_matrix"
   ]
  },
  {
   "cell_type": "code",
   "execution_count": 371,
   "id": "4feb890b",
   "metadata": {},
   "outputs": [],
   "source": [
    "data = np.array(data)\n",
    "\n"
   ]
  },
  {
   "cell_type": "code",
   "execution_count": 372,
   "id": "31d21dde",
   "metadata": {},
   "outputs": [],
   "source": [
    "means = []\n",
    "for ii in range(len(data.T[0])):\n",
    "    means.append(np.mean(data.T[0][ii]))"
   ]
  },
  {
   "cell_type": "code",
   "execution_count": 373,
   "id": "aa4846cb",
   "metadata": {},
   "outputs": [
    {
     "data": {
      "text/plain": [
       "[0.5199245121506791,\n",
       " 0.32937528416976386,\n",
       " 0.1388260561888486,\n",
       " -0.051723171792066674,\n",
       " -0.24227239977298196]"
      ]
     },
     "execution_count": 373,
     "metadata": {},
     "output_type": "execute_result"
    }
   ],
   "source": [
    "means"
   ]
  },
  {
   "cell_type": "code",
   "execution_count": 374,
   "id": "c730ae8e",
   "metadata": {},
   "outputs": [
    {
     "data": {
      "text/plain": [
       "[<matplotlib.lines.Line2D at 0x152b3306fa0>]"
      ]
     },
     "execution_count": 374,
     "metadata": {},
     "output_type": "execute_result"
    },
    {
     "data": {
      "image/png": "[encoded data removed]",
      "text/plain": [
       "<Figure size 432x288 with 1 Axes>"
      ]
     },
     "metadata": {
      "needs_background": "light"
     },
     "output_type": "display_data"
    }
   ],
   "source": [
    "plt.plot(x, means)\n",
    "plt.plot(x,y, label = 'data')"
   ]
  },
  {
   "cell_type": "code",
   "execution_count": 324,
   "id": "31959c0f",
   "metadata": {},
   "outputs": [
    {
     "data": {
      "text/plain": [
       "<matplotlib.legend.Legend at 0x152b2f31040>"
      ]
     },
     "execution_count": 324,
     "metadata": {},
     "output_type": "execute_result"
    },
    {
     "data": {
      "image/png": "[encoded data removed]",
      "text/plain": [
       "<Figure size 432x288 with 1 Axes>"
      ]
     },
     "metadata": {
      "needs_background": "light"
     },
     "output_type": "display_data"
    }
   ],
   "source": [
    "gp.get_sample()\n",
    "plt.plot(gp.x,gp.ybar, label = 'gp')\n",
    "plt.plot(x,y, label = 'data')\n",
    "plt.legend()"
   ]
  },
  {
   "cell_type": "code",
   "execution_count": null,
   "id": "589b63c5",
   "metadata": {},
   "outputs": [],
   "source": []
  }
 ],
 "metadata": {
  "kernelspec": {
   "display_name": "Python 3 (ipykernel)",
   "language": "python",
   "name": "python3"
  },
  "language_info": {
   "codemirror_mode": {
    "name": "ipython",
    "version": 3
   },
   "file_extension": ".py",
   "mimetype": "text/x-python",
   "name": "python",
   "nbconvert_exporter": "python",
   "pygments_lexer": "ipython3",
   "version": "3.9.7"
  }
 },
 "nbformat": 4,
 "nbformat_minor": 5
}
