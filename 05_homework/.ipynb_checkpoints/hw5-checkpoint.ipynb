{
 "cells": [
  {
   "cell_type": "code",
   "execution_count": 30,
   "id": "ad674250",
   "metadata": {},
   "outputs": [],
   "source": [
    "import numpy as np\n",
    "import matplotlib.pyplot as plt"
   ]
  },
  {
   "cell_type": "code",
   "execution_count": 2,
   "id": "b1d1a164",
   "metadata": {},
   "outputs": [],
   "source": [
    "def du(u):\n",
    "    alfa = 1+np.random.normal()\n",
    "    return -0.5*u**2+alfa*u"
   ]
  },
  {
   "cell_type": "code",
   "execution_count": 3,
   "id": "ecbe7037",
   "metadata": {},
   "outputs": [],
   "source": [
    "def run_sim(u=0.1, T=2):\n",
    "    us = np.zeros(T+1)\n",
    "    us[0] = u\n",
    "    for i in range(T):\n",
    "        change = du(us[i])\n",
    "        us[i+1] = us[i]+change\n",
    "    return us"
   ]
  },
  {
   "cell_type": "code",
   "execution_count": 47,
   "id": "436b9c42",
   "metadata": {},
   "outputs": [
    {
     "data": {
      "text/plain": [
       "(array([  2.,   0.,   1.,   1.,   2.,   3.,   5.,  15.,  16.,  20.,  42.,\n",
       "         88., 160., 347., 437., 593., 620., 678., 750., 760., 748., 665.,\n",
       "        582., 537., 454., 399., 337., 312., 272., 242., 171., 145., 108.,\n",
       "        103.,  86.,  74.,  45.,  30.,  23.,  28.,  22.,  15.,  17.,  11.,\n",
       "          8.,   5.,   6.,   1.,   2.,   4.,   2.,   0.,   2.,   0.,   0.,\n",
       "          1.,   0.,   0.,   1.,   2.]),\n",
       " array([-0.6158651 , -0.57023338, -0.52460166, -0.47896994, -0.43333822,\n",
       "        -0.3877065 , -0.34207478, -0.29644305, -0.25081133, -0.20517961,\n",
       "        -0.15954789, -0.11391617, -0.06828445, -0.02265273,  0.02297899,\n",
       "         0.06861071,  0.11424243,  0.15987415,  0.20550588,  0.2511376 ,\n",
       "         0.29676932,  0.34240104,  0.38803276,  0.43366448,  0.4792962 ,\n",
       "         0.52492792,  0.57055964,  0.61619136,  0.66182308,  0.70745481,\n",
       "         0.75308653,  0.79871825,  0.84434997,  0.88998169,  0.93561341,\n",
       "         0.98124513,  1.02687685,  1.07250857,  1.11814029,  1.16377201,\n",
       "         1.20940374,  1.25503546,  1.30066718,  1.3462989 ,  1.39193062,\n",
       "         1.43756234,  1.48319406,  1.52882578,  1.5744575 ,  1.62008922,\n",
       "         1.66572094,  1.71135267,  1.75698439,  1.80261611,  1.84824783,\n",
       "         1.89387955,  1.93951127,  1.98514299,  2.03077471,  2.07640643,\n",
       "         2.12203815]),\n",
       " <BarContainer object of 60 artists>)"
      ]
     },
     "execution_count": 47,
     "metadata": {},
     "output_type": "execute_result"
    },
    {
     "data": {
      "image/png": "[encoded data removed]",
      "text/plain": [
       "<Figure size 432x288 with 1 Axes>"
      ]
     },
     "metadata": {
      "needs_background": "light"
     },
     "output_type": "display_data"
    }
   ],
   "source": [
    "answers = [run_sim()[2] for i in range(10_000)]\n",
    "plt.hist(answers, bins=60)"
   ]
  },
  {
   "cell_type": "code",
   "execution_count": 50,
   "id": "8d9b5783",
   "metadata": {},
   "outputs": [
    {
     "name": "stdout",
     "output_type": "stream",
     "text": [
      "760\n"
     ]
    }
   ],
   "source": [
    "#check how many runs are necessary for 2 significant digits\n",
    "\n",
    "N=10\n",
    "while(True):\n",
    "    answers = [run_sim()[2] for i in range(N)]\n",
    "    error = np.std(answers)/np.sqrt(N)\n",
    "    if error < 0.01:\n",
    "        print(N)\n",
    "        break\n",
    "    N+=10"
   ]
  },
  {
   "cell_type": "code",
   "execution_count": 51,
   "id": "4a794356",
   "metadata": {},
   "outputs": [
    {
     "data": {
      "text/plain": [
       "0.36383835635622763"
      ]
     },
     "execution_count": 51,
     "metadata": {},
     "output_type": "execute_result"
    }
   ],
   "source": [
    "np.mean(answers)"
   ]
  },
  {
   "cell_type": "code",
   "execution_count": 52,
   "id": "80c16e21",
   "metadata": {},
   "outputs": [
    {
     "data": {
      "text/plain": [
       "0.07547749146763853"
      ]
     },
     "execution_count": 52,
     "metadata": {},
     "output_type": "execute_result"
    }
   ],
   "source": [
    "np.var(answers)"
   ]
  },
  {
   "cell_type": "code",
   "execution_count": null,
   "id": "0ae7e17c",
   "metadata": {},
   "outputs": [],
   "source": []
  },
  {
   "cell_type": "code",
   "execution_count": null,
   "id": "a721171f",
   "metadata": {},
   "outputs": [],
   "source": []
  }
 ],
 "metadata": {
  "kernelspec": {
   "display_name": "Python 3 (ipykernel)",
   "language": "python",
   "name": "python3"
  },
  "language_info": {
   "codemirror_mode": {
    "name": "ipython",
    "version": 3
   },
   "file_extension": ".py",
   "mimetype": "text/x-python",
   "name": "python",
   "nbconvert_exporter": "python",
   "pygments_lexer": "ipython3",
   "version": "3.10.4"
  }
 },
 "nbformat": 4,
 "nbformat_minor": 5
}
